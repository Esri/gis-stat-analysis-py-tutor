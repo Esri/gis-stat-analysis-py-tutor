{
 "cells": [
  {
   "cell_type": "markdown",
   "metadata": {
    "collapsed": true,
    "deletable": true,
    "editable": true
   },
   "source": [
    "# Installation\n",
    "- Follow directions at the PySAL-ArcGIS-Toolbox Git Repository [https://github.com/Esri/PySAL-ArcGIS-Toolbox]\n",
    "- Please make note of the section on **Adding a Git Project to your ArcGIS Installation Python Path**.\n"
   ]
  },
  {
   "cell_type": "code",
   "execution_count": 11,
   "metadata": {
    "collapsed": false,
    "deletable": true,
    "editable": true
   },
   "outputs": [],
   "source": [
    "import arcpy as ARCPY\n",
    "import arcgisscripting as ARC\n",
    "import SSDataObject as SSDO\n",
    "import SSUtilities as UTILS\n",
    "import WeightsUtilities as WU\n",
    "import numpy as NUM\n",
    "import scipy as SCIPY\n",
    "import pysal as PYSAL\n",
    "import os as OS\n",
    "import pandas as PANDAS"
   ]
  },
  {
   "cell_type": "markdown",
   "metadata": {},
   "source": [
    "# Example: Testing the Income Convergence Hypothesis in California Counties (1969 - 2010)\n",
    "\n",
    "- Use the Auto-Model Spatial Econometric Tool to identify the appropriate model\n",
    "\n",
    "- Regressing the growth rate of incomes on the log of starting incomes \n",
    "\n",
    "    - a significant negative coefficient indicates convergence\n",
    "\n",
    "- The percentage of the population w/o a high school education and the population itself are the other exogenous factors."
   ]
  },
  {
   "cell_type": "markdown",
   "metadata": {},
   "source": [
    "## Importing Your Data into a PANDAS DataFrame"
   ]
  },
  {
   "cell_type": "code",
   "execution_count": 12,
   "metadata": {
    "collapsed": false,
    "deletable": true,
    "editable": true
   },
   "outputs": [
    {
     "name": "stdout",
     "output_type": "stream",
     "text": [
      "       GROWTH  LOGPCR69  PERCNOHS  POP1969\n",
      "158  0.011426  0.176233      37.0  1060099\n",
      "159 -0.137376  0.214186      38.3      398\n",
      "160 -0.188417  0.067722      41.4    11240\n",
      "161 -0.085070 -0.118248      42.9   101057\n",
      "162 -0.049022 -0.081377      48.1    13328\n"
     ]
    }
   ],
   "source": [
    "inputFC = r'../data/CA_Polygons.shp'\n",
    "fullFC = OS.path.abspath(inputFC)\n",
    "fullPath, fcName = OS.path.split(fullFC)\n",
    "ssdo = SSDO.SSDataObject(inputFC)\n",
    "uniqueIDField = \"MYID\"\n",
    "fieldNames = ['GROWTH', 'LOGPCR69', 'PERCNOHS', 'POP1969']\n",
    "ssdo.obtainData(uniqueIDField, fieldNames)\n",
    "df = ssdo.getDataFrame()\n",
    "print(df.head())"
   ]
  },
  {
   "cell_type": "markdown",
   "metadata": {},
   "source": [
    "## Use the PySAL-ArcGIS Utilities to Read in Spatial Weights Files"
   ]
  },
  {
   "cell_type": "code",
   "execution_count": 9,
   "metadata": {
    "collapsed": true,
    "deletable": true,
    "editable": true
   },
   "outputs": [],
   "source": [
    "import pysal2ArcUtils as PYSAL_UTILS\n",
    "swmFile = OS.path.join(fullPath, \"queen.swm\")\n",
    "W = PYSAL_UTILS.PAT_W(ssdo, swmFile)\n",
    "w = W.w\n",
    "\n",
    "kernelSWMFile = OS.path.join(fullPath, \"knn8.swm\")\n",
    "KW = PYSAL_UTILS.PAT_W(ssdo, kernelSWMFile)\n",
    "kw = KW.w"
   ]
  },
  {
   "cell_type": "markdown",
   "metadata": {},
   "source": [
    "## Run the Auto Model Class and Export Your Data to an Output Feature Class"
   ]
  },
  {
   "cell_type": "code",
   "execution_count": 13,
   "metadata": {
    "collapsed": false,
    "deletable": true,
    "editable": true
   },
   "outputs": [],
   "source": [
    "import AutoModel as AUTO\n",
    "auto = AUTO.AutoSpace_PySAL(ssdo, \"GROWTH\", ['LOGPCR69', 'PERCNOHS', 'POP1969'],\n",
    "                            W, KW, pValue = 0.1, useCombo = True)\n",
    "ARCPY.env.overwriteOutput = True\n",
    "outputFC = r'../data/pysal_automodel.shp'\n",
    "auto.createOutput(outputFC)"
   ]
  }
 ],
 "metadata": {
  "kernelspec": {
   "display_name": "Python 3",
   "language": "python",
   "name": "python3"
  },
  "language_info": {
   "codemirror_mode": {
    "name": "ipython",
    "version": 3
   },
   "file_extension": ".py",
   "mimetype": "text/x-python",
   "name": "python",
   "nbconvert_exporter": "python",
   "pygments_lexer": "ipython3",
   "version": "3.5.3"
  }
 },
 "nbformat": 4,
 "nbformat_minor": 0
}
