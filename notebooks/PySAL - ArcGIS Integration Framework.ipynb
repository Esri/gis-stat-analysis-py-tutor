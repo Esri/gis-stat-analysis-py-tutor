{
 "cells": [
  {
   "cell_type": "code",
   "execution_count": 1,
   "metadata": {
    "collapsed": true
   },
   "outputs": [],
   "source": [
    "import arcpy as ARCPY\n",
    "import arcgisscripting as ARC\n",
    "import SSDataObject as SSDO\n",
    "import SSUtilities as UTILS\n",
    "import WeightsUtilities as WU\n",
    "import numpy as NUM\n",
    "import scipy as SCIPY\n",
    "import pysal as PYSAL\n",
    "import os as OS\n",
    "import pandas as PANDAS"
   ]
  },
  {
   "cell_type": "code",
   "execution_count": 7,
   "metadata": {
    "collapsed": false
   },
   "outputs": [
    {
     "name": "stdout",
     "output_type": "stream",
     "text": [
      "      PCR2010  PERCNOHS  POP2010\n",
      "158  1.206422      37.0  1513043\n",
      "159  1.079837      38.3     1162\n",
      "160  0.886305      41.4    38026\n",
      "161  0.816018      42.9   220000\n",
      "162  0.877746      48.1    45485\n"
     ]
    }
   ],
   "source": [
    "inputFC = r'../data/CA_Polygons.shp'\n",
    "fullFC = OS.path.abspath(inputFC)\n",
    "fullPath, fcName = OS.path.split(fullFC)\n",
    "ssdo = SSDO.SSDataObject(inputFC)\n",
    "uniqueIDField = \"MYID\"\n",
    "fieldNames = ['PCR2010', 'POP2010', 'PERCNOHS']\n",
    "ssdo.obtainData(uniqueIDField, fieldNames)\n",
    "df = ssdo.getDataFrame()\n",
    "print(df.head())"
   ]
  },
  {
   "cell_type": "code",
   "execution_count": 8,
   "metadata": {
    "collapsed": false
   },
   "outputs": [
    {
     "name": "stdout",
     "output_type": "stream",
     "text": [
      "[4 3 0 0 1 3 4 1 3 1 0 0 1 3 1 1 1 0 5 1 2 0 0 1 0 3 3 3 3 4 3 3 0 3 1 0 4\n",
      " 2 1 3 2 3 4 3 0 0 0 3 3 1 0 0 0 1 0 3 3 0]\n"
     ]
    },
    {
     "name": "stderr",
     "output_type": "stream",
     "text": [
      "C:\\ArcGIS\\bin\\Python\\envs\\arcgispro-py3\\lib\\site-packages\\ipykernel\\__main__.py:5: DeprecationWarning: PyArray_FromDims: use PyArray_SimpleNew.\n",
      "C:\\ArcGIS\\bin\\Python\\envs\\arcgispro-py3\\lib\\site-packages\\ipykernel\\__main__.py:5: DeprecationWarning: PyArray_FromDimsAndDataAndDescr: use PyArray_NewFromDescr.\n"
     ]
    }
   ],
   "source": [
    "import scipy.cluster.vq as CLUST\n",
    "X = df.as_matrix()\n",
    "whiteData = CLUST.whiten(X)\n",
    "centers, distortion = CLUST.kmeans(whiteData, 6)\n",
    "groups = ARC._ss.closest_centroid(whiteData, centers)\n",
    "print(groups)"
   ]
  },
  {
   "cell_type": "code",
   "execution_count": 9,
   "metadata": {
    "collapsed": true
   },
   "outputs": [],
   "source": [
    "import pysal as PYSAL\n",
    "import WeightsUtilities as WU\n",
    "import SSUtilities as UTILS\n",
    "\n",
    "def swm2Weights(ssdo, swmfile):\n",
    "    \"\"\"Converts ArcGIS Sparse Spatial Weights Matrix (*.swm) file to \n",
    "    PySAL Sparse Spatial Weights Class.\n",
    "    \n",
    "    INPUTS:\n",
    "    ssdo (class): instance of SSDataObject [1,2]\n",
    "    swmFile (str): full path to swm file\n",
    "    \n",
    "    NOTES:\n",
    "    (1) Data must already be obtained using ssdo.obtainData()\n",
    "    (2) The masterField for the swm file and the ssdo object must be\n",
    "        the same and may NOT be the OID/FID/ObjectID\n",
    "    \"\"\"\n",
    "    neighbors = {}\n",
    "    weights = {}\n",
    "    \n",
    "    #### Create SWM Reader Object ####\n",
    "    swm = WU.SWMReader(swmfile)\n",
    "    \n",
    "    #### SWM May NOT be a Subset of the Data ####\n",
    "    if ssdo.numObs > swm.numObs:\n",
    "        ARCPY.AddIDMessage(\"ERROR\", 842, ssdo.numObs, swm.numObs)\n",
    "        raise SystemExit()\n",
    "        \n",
    "    #### Parse All SWM Records ####\n",
    "    for r in UTILS.ssRange(swm.numObs):\n",
    "        info = swm.swm.readEntry()\n",
    "        masterID, nn, nhs, w, sumUnstandard = info\n",
    "        \n",
    "        #### Must Have at Least One Neighbor ####\n",
    "        if nn:\n",
    "            #### Must be in Selection Set (If Exists) ####\n",
    "            if masterID in ssdo.master2Order:\n",
    "                outNHS = []\n",
    "                outW = []\n",
    "                \n",
    "                #### Transform Master ID to Order ID ####\n",
    "                orderID = ssdo.master2Order[masterID]\n",
    "                \n",
    "                #### Neighbors and Weights Adjusted for Selection ####\n",
    "                for nhInd, nhVal in enumerate(nhs):\n",
    "                    try:\n",
    "                        nhOrder = ssdo.master2Order[nhVal]\n",
    "                        outNHS.append(nhOrder)\n",
    "                        weightVal = w[nhInd]\n",
    "                        if swm.rowStandard:\n",
    "                            weightVal = weightVal * sumUnstandard[0]\n",
    "                        outW.append(weightVal)\n",
    "                    except KeyError:\n",
    "                        pass\n",
    "                \n",
    "                #### Add Selected Neighbors/Weights ####\n",
    "                if len(outNHS):\n",
    "                    neighbors[orderID] = outNHS\n",
    "                    weights[orderID] = outW\n",
    "    swm.close()\n",
    "    \n",
    "    #### Construct PySAL Spatial Weights and Standardize as per SWM ####\n",
    "    w = PYSAL.W(neighbors, weights)\n",
    "    if swm.rowStandard:\n",
    "        w.transform = 'R'\n",
    "        \n",
    "    return w\n"
   ]
  },
  {
   "cell_type": "code",
   "execution_count": 11,
   "metadata": {
    "collapsed": false
   },
   "outputs": [
    {
     "name": "stdout",
     "output_type": "stream",
     "text": [
      "(0, [47, 56, 50, 3, 31, 27, 10, 30, 8, 16, 17, 28, 2, 1, 22, 45, 24, 57, 44, 54, 33, 46, 11, 7, 52, 51, 48, 20, 5])\n",
      "(1, [42, 0, 40, 6, 37])\n",
      "(2, [23, 34, 9, 49, 53, 38, 14, 4, 15])\n",
      "(3, [29])\n",
      "(4, [55, 41, 18, 39, 26, 43])\n",
      "(5, [25, 19, 13, 35, 21, 32, 12])\n",
      "(6, [36])\n"
     ]
    }
   ],
   "source": [
    "swmFile = OS.path.join(fullPath, \"rook_bin.swm\")\n",
    "w = swm2Weights(ssdo, swmFile)\n",
    "maxp = PYSAL.region.Maxp(w, X[:,0:2], 3000000., floor_variable = X[:,2])\n",
    "maxpGroups = NUM.empty((ssdo.numObs,), int)\n",
    "for regionID, orderIDs in enumerate(maxp.regions):\n",
    "    maxpGroups[orderIDs] = regionID\n",
    "    print((regionID, orderIDs))"
   ]
  },
  {
   "cell_type": "code",
   "execution_count": 12,
   "metadata": {
    "collapsed": false
   },
   "outputs": [
    {
     "name": "stdout",
     "output_type": "stream",
     "text": [
      "[1 4 4 4 5 4 1 4 4 5 4 4 5 4 5 5 4 4 0 5 2 5 4 5 4 4 5 4 4 3 4 4 5 4 5 5 3\n",
      " 1 5 5 1 5 1 5 4 4 4 4 4 5 4 4 4 5 4 5 4 4]\n"
     ]
    }
   ],
   "source": [
    "import Partition as PART\n",
    "skater = PART.Partition(ssdo, fieldNames, spaceConcept = \"GET_SPATIAL_WEIGHTS_FROM_FILE\",\n",
    "                        weightsFile = swmFile, kPartitions = 6)\n",
    "print(skater.partition)"
   ]
  },
  {
   "cell_type": "code",
   "execution_count": 13,
   "metadata": {
    "collapsed": true
   },
   "outputs": [],
   "source": [
    "ARCPY.env.overwriteOutput = True\n",
    "outputFC = r'E:\\Data\\Conferences\\esri_stat_summit_16\\PYDemo\\PYDemo.gdb\\cluster_output'\n",
    "outK = SSDO.CandidateField('KMEANS', 'LONG', groups + 1)\n",
    "outMax = SSDO.CandidateField('MAXP', 'LONG', maxpGroups + 1)\n",
    "outSKATER = SSDO.CandidateField('SKATER', 'LONG', skater.partitionOutput)\n",
    "outFields = {'KMEANS': outK, 'MAXP': outMax, 'SKATER': outSKATER}\n",
    "appendFields = fieldNames + [\"NEW_NAME\"]\n",
    "ssdo.output2NewFC(outputFC, outFields, appendFields = appendFields)"
   ]
  },
  {
   "cell_type": "code",
   "execution_count": null,
   "metadata": {
    "collapsed": true
   },
   "outputs": [],
   "source": []
  }
 ],
 "metadata": {
  "kernelspec": {
   "display_name": "Python 3",
   "language": "python",
   "name": "python3"
  },
  "language_info": {
   "codemirror_mode": {
    "name": "ipython",
    "version": 3
   },
   "file_extension": ".py",
   "mimetype": "text/x-python",
   "name": "python",
   "nbconvert_exporter": "python",
   "pygments_lexer": "ipython3",
   "version": "3.4.4"
  },
  "widgets": {
   "state": {},
   "version": "1.1.2"
  }
 },
 "nbformat": 4,
 "nbformat_minor": 0
}
