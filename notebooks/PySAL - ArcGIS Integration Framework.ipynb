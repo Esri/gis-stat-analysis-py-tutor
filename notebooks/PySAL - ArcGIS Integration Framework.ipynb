{
 "cells": [
  {
   "cell_type": "code",
   "execution_count": 6,
   "metadata": {
    "collapsed": true
   },
   "outputs": [],
   "source": [
    "import arcpy as ARCPY\n",
    "import arcgisscripting as ARC\n",
    "import SSDataObject as SSDO\n",
    "import SSUtilities as UTILS\n",
    "import WeightsUtilities as WU\n",
    "import numpy as NUM\n",
    "import scipy as SCIPY\n",
    "import pysal as PYSAL\n",
    "import os as OS\n",
    "import pandas as PANDAS"
   ]
  },
  {
   "cell_type": "code",
   "execution_count": 9,
   "metadata": {
    "collapsed": false
   },
   "outputs": [
    {
     "name": "stdout",
     "output_type": "stream",
     "text": [
      "       GROWTH  LOGPCR69  PERCNOHS  POP1969\n",
      "158  0.011426  0.176233      37.0  1060099\n",
      "159 -0.137376  0.214186      38.3      398\n",
      "160 -0.188417  0.067722      41.4    11240\n",
      "161 -0.085070 -0.118248      42.9   101057\n",
      "162 -0.049022 -0.081377      48.1    13328\n"
     ]
    }
   ],
   "source": [
    "inputFC = r'../data/CA_Polygons.shp'\n",
    "fullFC = OS.path.abspath(inputFC)\n",
    "fullPath, fcName = OS.path.split(fullFC)\n",
    "ssdo = SSDO.SSDataObject(inputFC)\n",
    "uniqueIDField = \"MYID\"\n",
    "fieldNames = ['GROWTH', 'LOGPCR69', 'POP1969', 'PERCNOHS']\n",
    "ssdo.obtainData(uniqueIDField, fieldNames)\n",
    "df = ssdo.getDataFrame()\n",
    "print(df.head())"
   ]
  },
  {
   "cell_type": "code",
   "execution_count": 10,
   "metadata": {
    "collapsed": false
   },
   "outputs": [
    {
     "name": "stdout",
     "output_type": "stream",
     "text": [
      "(0, [37, 40, 42])\n",
      "(1, [44, 24, 51, 22, 17, 31, 3, 50, 16, 30, 46, 10, 11, 33, 38, 52, 0, 6, 57, 45, 28, 2, 8, 1, 54, 47, 27, 48, 20, 56, 5, 7, 25, 21, 13])\n",
      "(2, [19, 9, 53, 23, 34, 14, 49, 4, 15])\n",
      "(3, [39, 41, 55, 18, 26, 43])\n",
      "(4, [35, 32, 12])\n",
      "(5, [36])\n",
      "(6, [29])\n"
     ]
    }
   ],
   "source": [
    "import pysal2ArcGIS as PYSAL_UTILS\n",
    "swmFile = OS.path.join(fullPath, \"rook_bin.swm\")\n",
    "w = PYSAL_UTILS.swm2Weights(ssdo, swmFile)\n",
    "maxp = PYSAL.region.Maxp(w, X[:,0:2], 3000000., floor_variable = X[:,2])\n",
    "maxpGroups = NUM.empty((ssdo.numObs,), int)\n",
    "for regionID, orderIDs in enumerate(maxp.regions):\n",
    "    maxpGroups[orderIDs] = regionID\n",
    "    print((regionID, orderIDs))"
   ]
  },
  {
   "cell_type": "code",
   "execution_count": null,
   "metadata": {
    "collapsed": true
   },
   "outputs": [],
   "source": [
    "from pysal.weights.Distance import Kernel\n",
    "kernelW = Kernel(ssdo.xyCoords, fixed=True, k=4, function='GAUSSIAN')\n",
    "autoTestResult = PYSAL_UTILS.autospace(df.iloc[:,0], df.iloc[:,1:].values, w, kernelW,\n",
    "                                       opvalue = .1,\n",
    "                                          name_y = fieldNames[0],\n",
    "                                          name_x = fieldNames[1:],\n",
    "                                          name_w = swmFile,\n",
    "                                          name_gwk = self.gwkName,\n",
    "                                          name_ds = self.ssdo.inputFC"
   ]
  },
  {
   "cell_type": "code",
   "execution_count": 13,
   "metadata": {
    "collapsed": true
   },
   "outputs": [],
   "source": [
    "ARCPY.env.overwriteOutput = True\n",
    "outputFC = r'E:\\Data\\Conferences\\esri_stat_summit_16\\PYDemo\\PYDemo.gdb\\cluster_output'\n",
    "outK = SSDO.CandidateField('KMEANS', 'LONG', groups + 1)\n",
    "outMax = SSDO.CandidateField('MAXP', 'LONG', maxpGroups + 1)\n",
    "outSKATER = SSDO.CandidateField('SKATER', 'LONG', skater.partitionOutput)\n",
    "outFields = {'KMEANS': outK, 'MAXP': outMax, 'SKATER': outSKATER}\n",
    "appendFields = fieldNames + [\"NEW_NAME\"]\n",
    "ssdo.output2NewFC(outputFC, outFields, appendFields = appendFields)"
   ]
  },
  {
   "cell_type": "code",
   "execution_count": null,
   "metadata": {
    "collapsed": true
   },
   "outputs": [],
   "source": []
  }
 ],
 "metadata": {
  "kernelspec": {
   "display_name": "Python 3",
   "language": "python",
   "name": "python3"
  },
  "language_info": {
   "codemirror_mode": {
    "name": "ipython",
    "version": 3
   },
   "file_extension": ".py",
   "mimetype": "text/x-python",
   "name": "python",
   "nbconvert_exporter": "python",
   "pygments_lexer": "ipython3",
   "version": "3.4.4"
  },
  "widgets": {
   "state": {},
   "version": "1.1.2"
  }
 },
 "nbformat": 4,
 "nbformat_minor": 0
}
