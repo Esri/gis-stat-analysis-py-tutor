{
 "cells": [
  {
   "cell_type": "code",
   "execution_count": null,
   "metadata": {
    "collapsed": true
   },
   "outputs": [],
   "source": [
    "# Workflow"
   ]
  },
  {
   "cell_type": "code",
   "execution_count": 1,
   "metadata": {
    "collapsed": false,
    "deletable": true,
    "editable": true
   },
   "outputs": [],
   "source": [
    "import arcpy as ARCPY\n",
    "import arcgisscripting as ARC\n",
    "import SSDataObject as SSDO\n",
    "import SSUtilities as UTILS\n",
    "import WeightsUtilities as WU\n",
    "import numpy as NUM\n",
    "import scipy as SCIPY\n",
    "import pysal as PYSAL\n",
    "import os as OS\n",
    "import pandas as PANDAS"
   ]
  },
  {
   "cell_type": "code",
   "execution_count": 2,
   "metadata": {
    "collapsed": false,
    "deletable": true,
    "editable": true
   },
   "outputs": [
    {
     "name": "stdout",
     "output_type": "stream",
     "text": [
      "       GROWTH  LOGPCR69  PERCNOHS  POP1969\n",
      "158  0.011426  0.176233      37.0  1060099\n",
      "159 -0.137376  0.214186      38.3      398\n",
      "160 -0.188417  0.067722      41.4    11240\n",
      "161 -0.085070 -0.118248      42.9   101057\n",
      "162 -0.049022 -0.081377      48.1    13328\n"
     ]
    }
   ],
   "source": [
    "inputFC = r'../data/CA_Polygons.shp'\n",
    "fullFC = OS.path.abspath(inputFC)\n",
    "fullPath, fcName = OS.path.split(fullFC)\n",
    "ssdo = SSDO.SSDataObject(inputFC)\n",
    "uniqueIDField = \"MYID\"\n",
    "fieldNames = ['GROWTH', 'LOGPCR69', 'PERCNOHS', 'POP1969']\n",
    "ssdo.obtainData(uniqueIDField, fieldNames)\n",
    "df = ssdo.getDataFrame()\n",
    "print(df.head())"
   ]
  },
  {
   "cell_type": "code",
   "execution_count": 3,
   "metadata": {
    "collapsed": false,
    "deletable": true,
    "editable": true
   },
   "outputs": [
    {
     "name": "stdout",
     "output_type": "stream",
     "text": [
      "(0, [29, 18, 36])\n",
      "(1, [56, 27, 33, 5, 48, 16, 22, 38, 4, 54, 49, 2, 47, 10, 52, 3, 50, 51, 57, 30, 1, 11, 44, 31, 45, 24, 8, 17, 6, 7, 46, 28, 20, 25, 13])\n",
      "(2, [55, 41, 14, 53, 15, 9, 19, 21, 39, 35, 32, 12, 34, 23])\n",
      "(3, [37, 40, 42, 0, 43, 26])\n"
     ]
    }
   ],
   "source": [
    "import pysal2ArcUtils as PYSAL_UTILS\n",
    "swmFile = OS.path.join(fullPath, \"rook_bin.swm\")\n",
    "W = PYSAL_UTILS.PAT_W(ssdo, swmFile)\n",
    "w = W.w\n",
    "X = df.as_matrix()\n",
    "maxp = PYSAL.region.Maxp(w, X[:,0:3], 3000000., floor_variable = X[:,3])\n",
    "maxp.regions\n",
    "maxpGroups = NUM.empty((ssdo.numObs,), int)\n",
    "for regionID, orderIDs in enumerate(maxp.regions):\n",
    "    maxpGroups[orderIDs] = regionID\n",
    "    print((regionID, orderIDs))"
   ]
  },
  {
   "cell_type": "code",
   "execution_count": 4,
   "metadata": {
    "collapsed": true
   },
   "outputs": [],
   "source": [
    "swmFile = OS.path.join(fullPath, \"queen.swm\")\n",
    "W = PYSAL_UTILS.PAT_W(ssdo, swmFile)\n",
    "w = W.w\n",
    "\n",
    "kernelSWMFile = OS.path.join(fullPath, \"knn8.swm\")\n",
    "KW = PYSAL_UTILS.PAT_W(ssdo, kernelSWMFile)\n",
    "kw = KW.w"
   ]
  },
  {
   "cell_type": "code",
   "execution_count": 5,
   "metadata": {
    "collapsed": false,
    "deletable": true,
    "editable": true
   },
   "outputs": [],
   "source": [
    "import AutoModel as AUTO\n",
    "auto = AUTO.AutoSpace_PySAL(ssdo, \"GROWTH\", ['LOGPCR69', 'PERCNOHS', 'POP1969'],\n",
    "                            W, KW, pValue = 0.1, useCombo = True)\n",
    "ARCPY.env.overwriteOutput = True\n",
    "outputFC = r'E:\\Data\\Conferences\\esri_stat_summit_16\\PYDemo\\PYDemo.gdb\\pysal_automodel'\n",
    "auto.createOutput(outputFC)"
   ]
  },
  {
   "cell_type": "code",
   "execution_count": 6,
   "metadata": {
    "collapsed": true,
    "deletable": true,
    "editable": true
   },
   "outputs": [],
   "source": [
    "ARCPY.env.overwriteOutput = True\n",
    "outputFC = r'E:\\Data\\Conferences\\esri_stat_summit_16\\PYDemo\\PYDemo.gdb\\pysal_maxp'\n",
    "outMax = SSDO.CandidateField('MAXP', 'LONG', maxpGroups + 1)\n",
    "outFields = {'MAXP': outMax}\n",
    "appendFields = fieldNames + [\"NEW_NAME\"]\n",
    "ssdo.output2NewFC(outputFC, outFields, appendFields = appendFields)"
   ]
  },
  {
   "cell_type": "code",
   "execution_count": 7,
   "metadata": {
    "collapsed": false,
    "deletable": true,
    "editable": true
   },
   "outputs": [],
   "source": [
    "import WeightConvertor as W_CONVERT\n",
    "galFile = OS.path.join(fullPath, \"queen.gal\")\n",
    "convert = W_CONVERT.WeightConvertor(swmFile, galFile, inputFC, \"MYID\", \"SWM\", \"GAL\")\n",
    "convert.createOutput()"
   ]
  }
 ],
 "metadata": {
  "kernelspec": {
   "display_name": "Python 3",
   "language": "python",
   "name": "python3"
  },
  "language_info": {
   "codemirror_mode": {
    "name": "ipython",
    "version": 3
   },
   "file_extension": ".py",
   "mimetype": "text/x-python",
   "name": "python",
   "nbconvert_exporter": "python",
   "pygments_lexer": "ipython3",
   "version": "3.5.3"
  }
 },
 "nbformat": 4,
 "nbformat_minor": 0
}
