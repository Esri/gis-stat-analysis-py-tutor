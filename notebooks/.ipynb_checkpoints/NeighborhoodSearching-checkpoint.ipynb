{
 "cells": [
  {
   "cell_type": "markdown",
   "metadata": {},
   "source": [
    "# Neighborhood Structures in the ArcGIS Spatial Statistics Library"
   ]
  },
  {
   "cell_type": "markdown",
   "metadata": {},
   "source": [
    "# Spatial Weight Matrix File\n",
    "1. Stores the spatial weights so they do not have to be re-calculated for each analysis.\n",
    "2. In row-compressed format.  \n",
    "3. Little endian byte encoded.\n",
    "4. Requires a unique long/short field to identify each features.  **Can NOT be the OID/FID.**"
   ]
  },
  {
   "cell_type": "markdown",
   "metadata": {},
   "source": [
    "## Construction\n"
   ]
  },
  {
   "cell_type": "code",
   "execution_count": 10,
   "metadata": {
    "collapsed": false
   },
   "outputs": [],
   "source": [
    "import Weights as WEIGHTS\n",
    "import os as OS\n",
    "inputFC = r'../data/CA_Polygons.shp'\n",
    "fullFC = OS.path.abspath(inputFC)\n",
    "fullPath, fcName = OS.path.split(fullFC)\n",
    "masterField = \"MYID\""
   ]
  },
  {
   "cell_type": "markdown",
   "metadata": {},
   "source": [
    "### Distance-Based Options\n",
    "``` INPUTS: \n",
    "    inputFC (str): path to the input feature class\n",
    "    swmFile (str): path to the SWM file.\n",
    "    masterField (str): field in table that serves as the mapping.\n",
    "    fixed (boolean): fixed (1) or inverse (0) distance? \n",
    "    concept: {str, EUCLIDEAN}: EUCLIDEAN or MANHATTAN \n",
    "    exponent {float, 1.0}: distance decay\n",
    "    threshold {float, None}: distance threshold\n",
    "    kNeighs (int): number of neighbors to return\n",
    "    rowStandard {bool, True}: row standardize weights?\n",
    "```\n",
    "\n",
    "*Example: Fixed Distance*"
   ]
  },
  {
   "cell_type": "code",
   "execution_count": 11,
   "metadata": {
    "collapsed": false
   },
   "outputs": [],
   "source": [
    "swmFile = OS.path.join(fullPath, \"fixed250k.swm\")\n",
    "fixedSWM = WEIGHTS.distance2SWM(fullFC, swmFile, masterField, \n",
    "                                threshold = 250000)"
   ]
  },
  {
   "cell_type": "markdown",
   "metadata": {},
   "source": [
    "*Example: Inverse Distance Squared*"
   ]
  },
  {
   "cell_type": "code",
   "execution_count": 12,
   "metadata": {
    "collapsed": false
   },
   "outputs": [],
   "source": [
    "swmFile = OS.path.join(fullPath, \"inv2_250k.swm\")\n",
    "fixedSWM = WEIGHTS.distance2SWM(fullFC, swmFile, masterField, fixed = False,\n",
    "                                exponent = 2.0, threshold = 250000)"
   ]
  },
  {
   "cell_type": "markdown",
   "metadata": {},
   "source": [
    "### k-Nearest Neighbors Options\n",
    "``` INPUTS: \n",
    "    inputFC (str): path to the input feature class\n",
    "    swmFile (str): path to the SWM file.\n",
    "    masterField (str): field in table that serves as the mapping.\n",
    "    concept: {str, EUCLIDEAN}: EUCLIDEAN or MANHATTAN \n",
    "    kNeighs {int, 1}: number of neighbors to return\n",
    "    rowStandard {bool, True}: row standardize weights?\n",
    "```\n",
    "\n",
    "*Example: 8-nearest neighbors*"
   ]
  },
  {
   "cell_type": "code",
   "execution_count": 13,
   "metadata": {
    "collapsed": false
   },
   "outputs": [],
   "source": [
    "swmFile = OS.path.join(fullPath, \"knn8.swm\")\n",
    "fixedSWM = WEIGHTS.kNearest2SWM(fullFC, swmFile, masterField, kNeighs = 8)"
   ]
  },
  {
   "cell_type": "markdown",
   "metadata": {},
   "source": [
    "*Example: Fixed Distance - k-nearest neighbor hybrid [i.e. at least k neighbors but may have more...]*"
   ]
  },
  {
   "cell_type": "code",
   "execution_count": 14,
   "metadata": {
    "collapsed": false
   },
   "outputs": [],
   "source": [
    "swmFile = OS.path.join(fullPath, \"fixed250k_knn8.swm\")\n",
    "fixedSWM = WEIGHTS.distance2SWM(fullFC, swmFile, masterField, kNeighs = 8,\n",
    "                                threshold = 250000)"
   ]
  },
  {
   "cell_type": "markdown",
   "metadata": {},
   "source": [
    "### Delaunay Triangulation Options\n",
    "``` INPUTS: \n",
    "    inputFC (str): path to the input feature class\n",
    "    swmFile (str): path to the SWM file.\n",
    "    masterField (str): field in table that serves as the mapping.\n",
    "    rowStandard {bool, True}: row standardize weights?\n",
    "```\n",
    "\n",
    "*Example: delaunay*"
   ]
  },
  {
   "cell_type": "code",
   "execution_count": 15,
   "metadata": {
    "collapsed": false
   },
   "outputs": [],
   "source": [
    "swmFile = OS.path.join(fullPath, \"delaunay.swm\")\n",
    "fixedSWM = WEIGHTS.distance2SWM(fullFC, swmFile, masterField)"
   ]
  },
  {
   "cell_type": "markdown",
   "metadata": {},
   "source": [
    "### Polygon Contiguity Options <a id=\"poly_options\"></a>\n",
    "``` INPUTS: \n",
    "    inputFC (str): path to the input feature class\n",
    "    swmFile (str): path to the SWM file.\n",
    "    masterField (str): field in table that serves as the mapping.\n",
    "    concept: {str, EUCLIDEAN}: EUCLIDEAN or MANHATTAN\n",
    "    kNeighs {int, 0}: number of neighbors to return (1)\n",
    "    rowStandard {bool, True}: row standardize weights?\n",
    "    contiguityType {str, Rook}: {Rook = Edges Only, Queen = Edges/Vertices}\n",
    "\n",
    "    NOTES:\n",
    "    (1) kNeighs is an option often used when you know there are polygon\n",
    "        features that are not contiguous (e.g. islands).  A kNeighs value \n",
    "        of 2 will assure that ALL features have at least 2 neighbors.  \n",
    "        If a polygon is determined to only touch a single other polygon, \n",
    "        then a nearest neighbor search based on true centroids are used \n",
    "        to find the additional neighbor.\n",
    "```\n",
    "\n",
    "*Example: Rook [Binary]*"
   ]
  },
  {
   "cell_type": "code",
   "execution_count": 16,
   "metadata": {
    "collapsed": false
   },
   "outputs": [],
   "source": [
    "swmFile = OS.path.join(fullPath, \"rook_bin.swm\")\n",
    "WEIGHTS.polygon2SWM(inputFC, swmFile, masterField, rowStandard = False)"
   ]
  },
  {
   "cell_type": "markdown",
   "metadata": {},
   "source": [
    "*Example: Queen Contiguity - KNN Hybrid [Prevents Islands w/ no Neighbors][\n",
    "(1)](#poly_options)*"
   ]
  },
  {
   "cell_type": "code",
   "execution_count": 17,
   "metadata": {
    "collapsed": false
   },
   "outputs": [],
   "source": [
    "swmFile = OS.path.join(fullPath, \"hybrid.swm\")\n",
    "WEIGHTS.polygon2SWM(inputFC, swmFile, masterField, kNeighs = 4)"
   ]
  },
  {
   "cell_type": "markdown",
   "metadata": {},
   "source": [
    "# On-the-fly Neighborhood Iterators [GA Table]\n",
    "1. Reads centroids of input features into spatial tree structure.\n",
    "2. Distance Based Queries. \n",
    "3. Scalable: In-memory/disk-space swap for large data.\n",
    "4. Requires a unique long/short field to identify each features.  **Can be the OID/FID.**\n",
    "5. Uses **ssdo.obtainDataGA** instead of **ssdo.obtainData**"
   ]
  },
  {
   "cell_type": "markdown",
   "metadata": {},
   "source": [
    "[See Directions for SSDataObject](#localhost:8888/My Notebook.ipynb*)"
   ]
  },
  {
   "cell_type": "markdown",
   "metadata": {},
   "source": [
    "*Pre-Example: Load the Data into GA Version of SSDataObject*"
   ]
  },
  {
   "cell_type": "code",
   "execution_count": 18,
   "metadata": {
    "collapsed": false
   },
   "outputs": [],
   "source": [
    "import SSDataObject as SSDO\n",
    "inputFC = r'../data/CA_Polygons.shp'\n",
    "ssdo = SSDO.SSDataObject(inputFC)\n",
    "uniqueIDField = ssdo.oidName\n",
    "ssdo.obtainDataGA(uniqueIDField)"
   ]
  },
  {
   "cell_type": "markdown",
   "metadata": {},
   "source": [
    "*Example: NeighborSearch - When you only need your Neighbor IDs*\n",
    "\n",
    "*gaSearch.init_nearest(distance_band, minimum_num_neighs, {\"euclidean\", \"manhattan\")*"
   ]
  },
  {
   "cell_type": "code",
   "execution_count": 40,
   "metadata": {
    "collapsed": false
   },
   "outputs": [
    {
     "name": "stdout",
     "output_type": "stream",
     "text": [
      "[23 27  1  2]\n",
      "[ 2  0 27 23]\n",
      "[ 1 27  0 38]\n",
      "[4 1 5 6]\n",
      "[3 5 2 1]\n"
     ]
    }
   ],
   "source": [
    "import arcgisscripting as ARC\n",
    "import gapy as GAPY\n",
    "gaSearch = GAPY.ga_nsearch(ssdo.gaTable)\n",
    "concept, gaConcept = WU.validateDistanceMethod('EUCLIDEAN', ssdo.spatialRef)\n",
    "gaSearch.init_nearest(0.0, 4, gaConcept)\n",
    "neighSearch = ARC._ss.NeighborSearch(ssdo.gaTable, gaSearch)\n",
    "for i in range(len(neighSearch)):\n",
    "    neighOrderIDs = neighSearch[i]\n",
    "    if i < 5:\n",
    "        print(neighOrderIDs)"
   ]
  },
  {
   "cell_type": "markdown",
   "metadata": {},
   "source": [
    "*Example: NeighborWeights - When you need non-uniform spatial weights (E.g. Inverse Distance Squared)*\n",
    "\n",
    "*NeighborWeights(gaTable, gaSearch, weight_type [0: inverse_distance, **1: fixed_distance**], exponent = 1.0,* row_standard = True, include_self = False)"
   ]
  },
  {
   "cell_type": "code",
   "execution_count": 41,
   "metadata": {
    "collapsed": false
   },
   "outputs": [
    {
     "name": "stdout",
     "output_type": "stream",
     "text": [
      "[23 27  1  2]\n",
      "[ 0.39201437  0.25190324  0.20951758  0.14656481]\n",
      "[ 2  0 27 23]\n",
      "[ 0.55199351  0.23131372  0.13687287  0.07981989]\n",
      "[ 1 27  0 38]\n",
      "[ 0.51289185  0.22825091  0.15034967  0.10850757]\n"
     ]
    }
   ],
   "source": [
    "gaSearch = GAPY.ga_nsearch(ssdo.gaTable)\n",
    "gaSearch.init_nearest(0.0, 4, gaConcept)\n",
    "neighSearch = ARC._ss.NeighborWeights(ssdo.gaTable, gaSearch, weight_type = 0, exponent = 2.0)\n",
    "for i in range(len(neighSearch)):\n",
    "    neighOrderIDs, neighWeights = neighSearch[i]\n",
    "    if i < 3:\n",
    "        print(neighOrderIDs)\n",
    "        print(neighWeights)"
   ]
  },
  {
   "cell_type": "markdown",
   "metadata": {},
   "source": [
    "# Contructing PySAL Spatial Weights \n",
    "1. Convert masterID to orderID when using ssdo.obtainData (SWM File, Polygon Contiguity) \n",
    "2. Data is already in orderID when using ssdo.obtainDataGA (Distance Based)"
   ]
  },
  {
   "cell_type": "code",
   "execution_count": 37,
   "metadata": {
    "collapsed": false
   },
   "outputs": [],
   "source": [
    "import pysal as PYSAL\n",
    "import WeightsUtilities as WU\n",
    "import SSUtilities as UTILS\n",
    "\n",
    "def swm2Weights(ssdo, swmfile):\n",
    "    \"\"\"Converts ArcGIS Sparse Spatial Weights Matrix (*.swm) file to \n",
    "    PySAL Sparse Spatial Weights Class.\n",
    "    \n",
    "    INPUTS:\n",
    "    ssdo (class): instance of SSDataObject [1,2]\n",
    "    swmFile (str): full path to swm file\n",
    "    \n",
    "    NOTES:\n",
    "    (1) Data must already be obtained using ssdo.obtainData()\n",
    "    (2) The masterField for the swm file and the ssdo object must be\n",
    "        the same and may NOT be the OID/FID/ObjectID\n",
    "    \"\"\"\n",
    "    neighbors = {}\n",
    "    weights = {}\n",
    "    \n",
    "    #### Create SWM Reader Object ####\n",
    "    swm = WU.SWMReader(swmfile)\n",
    "    \n",
    "    #### SWM May NOT be a Subset of the Data ####\n",
    "    if ssdo.numObs > swm.numObs:\n",
    "        ARCPY.AddIDMessage(\"ERROR\", 842, ssdo.numObs, swm.numObs)\n",
    "        raise SystemExit()\n",
    "        \n",
    "    #### Parse All SWM Records ####\n",
    "    for r in UTILS.ssRange(swm.numObs):\n",
    "        info = swm.swm.readEntry()\n",
    "        masterID, nn, nhs, w, sumUnstandard = info\n",
    "        \n",
    "        #### Must Have at Least One Neighbor ####\n",
    "        if nn:\n",
    "            #### Must be in Selection Set (If Exists) ####\n",
    "            if masterID in ssdo.master2Order:\n",
    "                outNHS = []\n",
    "                outW = []\n",
    "                \n",
    "                #### Transform Master ID to Order ID ####\n",
    "                orderID = ssdo.master2Order[masterID]\n",
    "                \n",
    "                #### Neighbors and Weights Adjusted for Selection ####\n",
    "                for nhInd, nhVal in enumerate(nhs):\n",
    "                    try:\n",
    "                        nhOrder = ssdo.master2Order[nhVal]\n",
    "                        outNHS.append(nhOrder)\n",
    "                        weightVal = w[nhInd]\n",
    "                        if swm.rowStandard:\n",
    "                            weightVal = weightVal * sumUnstandard[0]\n",
    "                        outW.append(weightVal)\n",
    "                    except KeyError:\n",
    "                        pass\n",
    "                \n",
    "                #### Add Selected Neighbors/Weights ####\n",
    "                if len(outNHS):\n",
    "                    neighbors[orderID] = outNHS\n",
    "                    weights[orderID] = outW\n",
    "    swm.close()\n",
    "    \n",
    "    #### Construct PySAL Spatial Weights and Standardize as per SWM ####\n",
    "    w = PYSAL.W(neighbors, weights)\n",
    "    if swm.rowStandard:\n",
    "        w.transform = 'R'\n",
    "        \n",
    "    return w\n",
    "\n",
    "def poly2Weights(ssdo, contiguityType = \"ROOK\", rowStandard = True):\n",
    "    \"\"\"Uses GP Polygon Neighbor Tool to construct contiguity relationships\n",
    "    and stores them in PySAL Sparse Spatial Weights class.\n",
    "    \n",
    "    INPUTS:\n",
    "    ssdo (class): instance of SSDataObject [1]\n",
    "    contiguityType {str, ROOK}: ROOK or QUEEN contiguity\n",
    "    rowStandard {bool, True}: whether to row standardize the spatial weights\n",
    "    \n",
    "    NOTES:\n",
    "    (1) Data must already be obtained using ssdo.obtainData() or ssdo.obtainDataGA ()\n",
    "    \"\"\"\n",
    "    \n",
    "    neighbors = {}\n",
    "    weights = {}\n",
    "    polyNeighDict = WU.polygonNeighborDict(ssdo.inputFC, ssdo.masterField,\n",
    "                                           contiguityType = contiguityType)\n",
    "    \n",
    "    for masterID, neighIDs in UTILS.iteritems(polyNeighDict):\n",
    "        neighOrderID = ssdo.master2Order[masterID]\n",
    "        neighbors[neighOrderID] = [ssdo.master2Order[i] for i in neighIDs]\n",
    "\n",
    "    w = PYSAL.W(neighbors)\n",
    "    if rowStandard:\n",
    "        w.transform = 'R'\n",
    "    return w\n",
    "\n",
    "def distance2Weights(ssdo, neighborType = 1, distanceBand = 0.0, numNeighs = 0, distanceType = \"euclidean\",\n",
    "                     exponent = 1.0, rowStandard = True, includeSelf = False):\n",
    "    \"\"\"Uses ArcGIS Neighborhood Searching Structure to create a PySAL Sparse Spatial Weights Matrix.\n",
    "    \n",
    "    INPUTS:\n",
    "    ssdo (class): instance of SSDataObject [1]\n",
    "    neighborType {int, 1}: 0 = inverse distance, 1 = fixed distance, \n",
    "                           2 = k-nearest-neighbors, 3 = delaunay\n",
    "    distanceBand {float, 0.0}: return all neighbors within this distance for inverse/fixed distance\n",
    "    numNeighs {int, 0}: number of neighbors for k-nearest-neighbor, can also be used to set a minimum \n",
    "                        number of neighbors for inverse/fixed distance\n",
    "    distanceType {str, euclidean}: manhattan or euclidean distance [2]  \n",
    "    exponent {float, 1.0}: distance decay factor for inverse distance\n",
    "    rowStandard {bool, True}: whether to row standardize the spatial weights\n",
    "    includeSelf {bool, False}: whether to return self as a neighbor\n",
    "    \n",
    "    NOTES:\n",
    "    (1) Data must already be obtained using ssdo.obtainData() or ssdo.obtainDataGA()\n",
    "    (2) Chordal Distance is used for GCS Data\n",
    "    \"\"\"\n",
    "    \n",
    "    neighbors = {}\n",
    "    weights = {}\n",
    "    gaSearch = GAPY.ga_nsearch(ssdo.gaTable)\n",
    "    if neighborType == 3:\n",
    "        gaSearch.init_delaunay()\n",
    "        neighSearch = ARC._ss.NeighborWeights(ssdo.gaTable, gaSearch, weight_type = 1, \n",
    "                                              exponent = exponent)\n",
    "    else:\n",
    "        if neighborType == 2:\n",
    "            distanceBand = 0.0\n",
    "            weightType = 1\n",
    "        else:\n",
    "            weightType = neighborType\n",
    "        \n",
    "        concept, gaConcept = WU.validateDistanceMethod(distanceType.upper(), ssdo.spatialRef)\n",
    "        gaSearch.init_nearest(distanceBand, numNeighs, gaConcept)\n",
    "        neighSearch = ARC._ss.NeighborWeights(ssdo.gaTable, gaSearch, weight_type = weightType, \n",
    "                                              exponent = exponent)\n",
    "        \n",
    "    for i in range(len(neighSearch)):\n",
    "        neighOrderIDs, neighWeights = neighSearch[i]\n",
    "        neighbors[i] = neighOrderIDs\n",
    "        weights[i] = neighWeights\n",
    "        \n",
    "    w = PYSAL.W(neighbors, weights)\n",
    "    if swm.rowStandard:\n",
    "        w.transform = 'R'\n",
    "    return w "
   ]
  },
  {
   "cell_type": "code",
   "execution_count": 5,
   "metadata": {
    "collapsed": false
   },
   "outputs": [],
   "source": []
  },
  {
   "cell_type": "code",
   "execution_count": 39,
   "metadata": {
    "collapsed": false
   },
   "outputs": [
    {
     "name": "stdout",
     "output_type": "stream",
     "text": [
      "(0, [0, 23, 2, 27, 26])\n",
      "(1, [16, 48, 47, 13, 14, 11, 7, 6, 45, 43, 40, 39, 3, 1, 46])\n",
      "(2, [4, 10, 5, 38, 29, 42, 8, 9, 12])\n",
      "(3, [44, 37, 57, 55, 28, 56, 34, 41, 52, 53, 30, 21, 54, 51, 50, 49, 36, 32, 33, 35, 31, 24, 25, 22])\n",
      "(4, [19, 18, 20])\n",
      "(5, [15])\n",
      "(6, [17])\n"
     ]
    }
   ],
   "source": [
    "import numpy as NUM\n",
    "ssdo = SSDO.SSDataObject(inputFC)\n",
    "uniqueIDField = \"MYID\"\n",
    "fieldNames = ['PCR2010', 'POP2010', 'PERCNOHS']\n",
    "ssdo.obtainDataGA(uniqueIDField, fieldNames)\n",
    "df = ssdo.getDataFrame()\n",
    "X = df.as_matrix()\n",
    "swmFile = OS.path.join(fullPath, \"rook_bin.swm\")\n",
    "w = swm2Weights(ssdo, swmFile)\n",
    "w.weights\n",
    "maxp = PYSAL.region.Maxp(w, X[:,0:2], 3000000., floor_variable = X[:,2])\n",
    "maxpGroups = NUM.empty((ssdo.numObs,), int)\n",
    "for regionID, orderIDs in enumerate(maxp.regions):\n",
    "    maxpGroups[orderIDs] = regionID\n",
    "    print((regionID, orderIDs))"
   ]
  },
  {
   "cell_type": "code",
   "execution_count": 8,
   "metadata": {
    "collapsed": false
   },
   "outputs": [
    {
     "ename": "SystemExit",
     "evalue": "",
     "output_type": "error",
     "traceback": [
      "\u001b[1;31m---------------------------------------------------------------------------\u001b[0m",
      "\u001b[1;31mFileNotFoundError\u001b[0m                         Traceback (most recent call last)",
      "\u001b[1;32mC:\\ArcGIS\\Resources\\ArcToolBox\\Scripts\\SSUtilities.py\u001b[0m in \u001b[0;36mopenFile\u001b[1;34m(fileName, ioString)\u001b[0m\n\u001b[0;32m    715\u001b[0m                 \u001b[1;32mreturn\u001b[0m \u001b[0mopen\u001b[0m\u001b[1;33m(\u001b[0m\u001b[0mfileName\u001b[0m\u001b[1;33m,\u001b[0m \u001b[0mioString\u001b[0m\u001b[1;33m,\u001b[0m \u001b[0mencoding\u001b[0m \u001b[1;33m=\u001b[0m \u001b[1;34m\"utf-8\"\u001b[0m\u001b[1;33m)\u001b[0m\u001b[1;33m\u001b[0m\u001b[0m\n\u001b[1;32m--> 716\u001b[1;33m         \u001b[1;32mreturn\u001b[0m \u001b[0mopen\u001b[0m\u001b[1;33m(\u001b[0m\u001b[0mfileName\u001b[0m\u001b[1;33m,\u001b[0m \u001b[0mioString\u001b[0m\u001b[1;33m)\u001b[0m\u001b[1;33m\u001b[0m\u001b[0m\n\u001b[0m\u001b[0;32m    717\u001b[0m     \u001b[1;32mexcept\u001b[0m\u001b[1;33m:\u001b[0m\u001b[1;33m\u001b[0m\u001b[0m\n",
      "\u001b[1;31mFileNotFoundError\u001b[0m: [Errno 2] No such file or directory: 'C:\\\\Data\\\\Conferences\\\\esri_stat_summit_16\\\\zzQueen.swm'",
      "\nDuring handling of the above exception, another exception occurred:\n",
      "\u001b[1;31mSystemExit\u001b[0m                                Traceback (most recent call last)",
      "\u001b[1;32m<ipython-input-7-596f9c4345b6>\u001b[0m in \u001b[0;36m<module>\u001b[1;34m()\u001b[0m\n\u001b[0;32m      1\u001b[0m \u001b[0mswmFile\u001b[0m \u001b[1;33m=\u001b[0m \u001b[1;34mr\"C:\\Data\\Conferences\\esri_stat_summit_16\\zzQueen.swm\"\u001b[0m\u001b[1;33m\u001b[0m\u001b[0m\n\u001b[1;32m----> 2\u001b[1;33m \u001b[0mw\u001b[0m \u001b[1;33m=\u001b[0m \u001b[0mswm2Weights\u001b[0m\u001b[1;33m(\u001b[0m\u001b[0mswmFile\u001b[0m\u001b[1;33m)\u001b[0m\u001b[1;33m\u001b[0m\u001b[0m\n\u001b[0m\u001b[0;32m      3\u001b[0m \u001b[0mmaxp\u001b[0m \u001b[1;33m=\u001b[0m \u001b[0mPYSAL\u001b[0m\u001b[1;33m.\u001b[0m\u001b[0mregion\u001b[0m\u001b[1;33m.\u001b[0m\u001b[0mMaxp\u001b[0m\u001b[1;33m(\u001b[0m\u001b[0mw\u001b[0m\u001b[1;33m,\u001b[0m \u001b[0mX\u001b[0m\u001b[1;33m[\u001b[0m\u001b[1;33m:\u001b[0m\u001b[1;33m,\u001b[0m\u001b[1;36m0\u001b[0m\u001b[1;33m:\u001b[0m\u001b[1;36m2\u001b[0m\u001b[1;33m]\u001b[0m\u001b[1;33m,\u001b[0m \u001b[1;36m3000000.\u001b[0m\u001b[1;33m,\u001b[0m \u001b[0mfloor_variable\u001b[0m \u001b[1;33m=\u001b[0m \u001b[0mX\u001b[0m\u001b[1;33m[\u001b[0m\u001b[1;33m:\u001b[0m\u001b[1;33m,\u001b[0m\u001b[1;36m2\u001b[0m\u001b[1;33m]\u001b[0m\u001b[1;33m)\u001b[0m\u001b[1;33m\u001b[0m\u001b[0m\n\u001b[0;32m      4\u001b[0m \u001b[0mmaxpGroups\u001b[0m \u001b[1;33m=\u001b[0m \u001b[0mNUM\u001b[0m\u001b[1;33m.\u001b[0m\u001b[0mempty\u001b[0m\u001b[1;33m(\u001b[0m\u001b[1;33m(\u001b[0m\u001b[0mssdo\u001b[0m\u001b[1;33m.\u001b[0m\u001b[0mnumObs\u001b[0m\u001b[1;33m,\u001b[0m\u001b[1;33m)\u001b[0m\u001b[1;33m,\u001b[0m \u001b[0mint\u001b[0m\u001b[1;33m)\u001b[0m\u001b[1;33m\u001b[0m\u001b[0m\n\u001b[0;32m      5\u001b[0m \u001b[1;32mfor\u001b[0m \u001b[0mregionID\u001b[0m\u001b[1;33m,\u001b[0m \u001b[0mmasterIDs\u001b[0m \u001b[1;32min\u001b[0m \u001b[0menumerate\u001b[0m\u001b[1;33m(\u001b[0m\u001b[0mmaxp\u001b[0m\u001b[1;33m.\u001b[0m\u001b[0mregions\u001b[0m\u001b[1;33m)\u001b[0m\u001b[1;33m:\u001b[0m\u001b[1;33m\u001b[0m\u001b[0m\n",
      "\u001b[1;32m<ipython-input-6-633d1573fcf1>\u001b[0m in \u001b[0;36mswm2Weights\u001b[1;34m(swmfile)\u001b[0m\n\u001b[0;32m      6\u001b[0m     \u001b[0mneighbors\u001b[0m \u001b[1;33m=\u001b[0m \u001b[1;33m{\u001b[0m\u001b[1;33m}\u001b[0m\u001b[1;33m\u001b[0m\u001b[0m\n\u001b[0;32m      7\u001b[0m     \u001b[0mweights\u001b[0m \u001b[1;33m=\u001b[0m \u001b[1;33m{\u001b[0m\u001b[1;33m}\u001b[0m\u001b[1;33m\u001b[0m\u001b[0m\n\u001b[1;32m----> 8\u001b[1;33m     \u001b[0mswm\u001b[0m \u001b[1;33m=\u001b[0m \u001b[0mWU\u001b[0m\u001b[1;33m.\u001b[0m\u001b[0mSWMReader\u001b[0m\u001b[1;33m(\u001b[0m\u001b[0mswmfile\u001b[0m\u001b[1;33m)\u001b[0m\u001b[1;33m\u001b[0m\u001b[0m\n\u001b[0m\u001b[0;32m      9\u001b[0m     \u001b[1;32mfor\u001b[0m \u001b[0mr\u001b[0m \u001b[1;32min\u001b[0m \u001b[0mUTILS\u001b[0m\u001b[1;33m.\u001b[0m\u001b[0mssRange\u001b[0m\u001b[1;33m(\u001b[0m\u001b[0mswm\u001b[0m\u001b[1;33m.\u001b[0m\u001b[0mnumObs\u001b[0m\u001b[1;33m)\u001b[0m\u001b[1;33m:\u001b[0m\u001b[1;33m\u001b[0m\u001b[0m\n\u001b[0;32m     10\u001b[0m         \u001b[0minfo\u001b[0m \u001b[1;33m=\u001b[0m \u001b[0mswm\u001b[0m\u001b[1;33m.\u001b[0m\u001b[0mswm\u001b[0m\u001b[1;33m.\u001b[0m\u001b[0mreadEntry\u001b[0m\u001b[1;33m(\u001b[0m\u001b[1;33m)\u001b[0m\u001b[1;33m\u001b[0m\u001b[0m\n",
      "\u001b[1;32mC:\\ArcGIS\\Resources\\ArcToolBox\\Scripts\\WeightsUtilities.py\u001b[0m in \u001b[0;36m__init__\u001b[1;34m(self, swmFile)\u001b[0m\n\u001b[0;32m    454\u001b[0m \u001b[1;33m\u001b[0m\u001b[0m\n\u001b[0;32m    455\u001b[0m         \u001b[0mself\u001b[0m\u001b[1;33m.\u001b[0m\u001b[0mswmFile\u001b[0m \u001b[1;33m=\u001b[0m \u001b[0mswmFile\u001b[0m\u001b[1;33m\u001b[0m\u001b[0m\n\u001b[1;32m--> 456\u001b[1;33m         \u001b[0mself\u001b[0m\u001b[1;33m.\u001b[0m\u001b[0mfo\u001b[0m \u001b[1;33m=\u001b[0m \u001b[0mUTILS\u001b[0m\u001b[1;33m.\u001b[0m\u001b[0mopenFile\u001b[0m\u001b[1;33m(\u001b[0m\u001b[0mswmFile\u001b[0m\u001b[1;33m,\u001b[0m \u001b[1;34m\"rb\"\u001b[0m\u001b[1;33m)\u001b[0m\u001b[1;33m\u001b[0m\u001b[0m\n\u001b[0m\u001b[0;32m    457\u001b[0m         \u001b[0mheaderLine\u001b[0m \u001b[1;33m=\u001b[0m \u001b[0mself\u001b[0m\u001b[1;33m.\u001b[0m\u001b[0mfo\u001b[0m\u001b[1;33m.\u001b[0m\u001b[0mreadline\u001b[0m\u001b[1;33m(\u001b[0m\u001b[1;33m)\u001b[0m\u001b[1;33m.\u001b[0m\u001b[0mdecode\u001b[0m\u001b[1;33m(\u001b[0m\u001b[1;34m'utf8'\u001b[0m\u001b[1;33m)\u001b[0m\u001b[1;33m\u001b[0m\u001b[0m\n\u001b[0;32m    458\u001b[0m         \u001b[0mself\u001b[0m\u001b[1;33m.\u001b[0m\u001b[0mheader\u001b[0m \u001b[1;33m=\u001b[0m \u001b[0mheaderLine\u001b[0m\u001b[1;33m.\u001b[0m\u001b[0mstrip\u001b[0m\u001b[1;33m(\u001b[0m\u001b[1;33m)\u001b[0m\u001b[1;33m.\u001b[0m\u001b[0msplit\u001b[0m\u001b[1;33m(\u001b[0m\u001b[1;34m\";\"\u001b[0m\u001b[1;33m)\u001b[0m\u001b[1;33m\u001b[0m\u001b[0m\n",
      "\u001b[1;32mC:\\ArcGIS\\Resources\\ArcToolBox\\Scripts\\SSUtilities.py\u001b[0m in \u001b[0;36mopenFile\u001b[1;34m(fileName, ioString)\u001b[0m\n\u001b[0;32m    718\u001b[0m         \u001b[1;32mif\u001b[0m \u001b[0mioString\u001b[0m\u001b[1;33m[\u001b[0m\u001b[1;36m0\u001b[0m\u001b[1;33m]\u001b[0m \u001b[1;33m==\u001b[0m \u001b[1;34m\"r\"\u001b[0m\u001b[1;33m:\u001b[0m\u001b[1;33m\u001b[0m\u001b[0m\n\u001b[0;32m    719\u001b[0m             \u001b[0mARCPY\u001b[0m\u001b[1;33m.\u001b[0m\u001b[0mAddIDMessage\u001b[0m\u001b[1;33m(\u001b[0m\u001b[1;34m\"ERROR\"\u001b[0m\u001b[1;33m,\u001b[0m \u001b[1;36m110\u001b[0m\u001b[1;33m,\u001b[0m \u001b[0mfileName\u001b[0m\u001b[1;33m)\u001b[0m\u001b[1;33m\u001b[0m\u001b[0m\n\u001b[1;32m--> 720\u001b[1;33m             \u001b[1;32mraise\u001b[0m \u001b[0mSystemExit\u001b[0m\u001b[1;33m(\u001b[0m\u001b[1;33m)\u001b[0m\u001b[1;33m\u001b[0m\u001b[0m\n\u001b[0m\u001b[0;32m    721\u001b[0m         \u001b[1;32melse\u001b[0m\u001b[1;33m:\u001b[0m\u001b[1;33m\u001b[0m\u001b[0m\n\u001b[0;32m    722\u001b[0m             \u001b[0mARCPY\u001b[0m\u001b[1;33m.\u001b[0m\u001b[0mAddIDMessage\u001b[0m\u001b[1;33m(\u001b[0m\u001b[1;34m\"ERROR\"\u001b[0m\u001b[1;33m,\u001b[0m \u001b[1;36m210\u001b[0m\u001b[1;33m,\u001b[0m \u001b[0mfileName\u001b[0m\u001b[1;33m)\u001b[0m\u001b[1;33m\u001b[0m\u001b[0m\n",
      "\u001b[1;31mSystemExit\u001b[0m: "
     ]
    }
   ],
   "source": [
    "%tb\n"
   ]
  },
  {
   "cell_type": "code",
   "execution_count": null,
   "metadata": {
    "collapsed": true
   },
   "outputs": [],
   "source": []
  }
 ],
 "metadata": {
  "kernelspec": {
   "display_name": "Python 3",
   "language": "python",
   "name": "python3"
  },
  "language_info": {
   "codemirror_mode": {
    "name": "ipython",
    "version": 3
   },
   "file_extension": ".py",
   "mimetype": "text/x-python",
   "name": "python",
   "nbconvert_exporter": "python",
   "pygments_lexer": "ipython3",
   "version": "3.4.4"
  },
  "widgets": {
   "state": {},
   "version": "1.1.2"
  }
 },
 "nbformat": 4,
 "nbformat_minor": 0
}
