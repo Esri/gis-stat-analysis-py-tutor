{
 "cells": [
  {
   "cell_type": "markdown",
   "metadata": {
    "deletable": true,
    "editable": true
   },
   "source": [
    "# Neighborhood Structures in the ArcGIS Spatial Statistics Library\n",
    "1. Spatial Weights Matrix\n",
    "2. On-the-fly Neighborhood Iterators [GA Table]\n",
    "3. Contructing PySAL Spatial Weights "
   ]
  },
  {
   "cell_type": "markdown",
   "metadata": {
    "deletable": true,
    "editable": true
   },
   "source": [
    "# Spatial Weight Matrix File\n",
    "1. Stores the spatial weights so they do not have to be re-calculated for each analysis.\n",
    "2. In row-compressed format.  \n",
    "3. Little endian byte encoded.\n",
    "4. Requires a unique long/short field to identify each features.  **Can NOT be the OID/FID.**"
   ]
  },
  {
   "cell_type": "markdown",
   "metadata": {
    "deletable": true,
    "editable": true
   },
   "source": [
    "## Construction\n"
   ]
  },
  {
   "cell_type": "code",
   "execution_count": null,
   "metadata": {
    "collapsed": false,
    "deletable": true,
    "editable": true
   },
   "outputs": [],
   "source": [
    "import Weights as WEIGHTS\n",
    "import os as OS\n",
    "inputFC = r'../data/CA_Polygons.shp'\n",
    "fullFC = OS.path.abspath(inputFC)\n",
    "fullPath, fcName = OS.path.split(fullFC)\n",
    "masterField = \"MYID\""
   ]
  },
  {
   "cell_type": "markdown",
   "metadata": {
    "deletable": true,
    "editable": true
   },
   "source": [
    "### Distance-Based Options\n",
    "``` INPUTS: \n",
    "    inputFC (str): path to the input feature class\n",
    "    swmFile (str): path to the SWM file.\n",
    "    masterField (str): field in table that serves as the mapping.\n",
    "    fixed (boolean): fixed (1) or inverse (0) distance? \n",
    "    concept: {str, EUCLIDEAN}: EUCLIDEAN or MANHATTAN \n",
    "    exponent {float, 1.0}: distance decay\n",
    "    threshold {float, None}: distance threshold\n",
    "    kNeighs (int): number of neighbors to return\n",
    "    rowStandard {bool, True}: row standardize weights?\n",
    "```\n",
    "\n",
    "*Example: Fixed Distance*"
   ]
  },
  {
   "cell_type": "code",
   "execution_count": null,
   "metadata": {
    "collapsed": false,
    "deletable": true,
    "editable": true
   },
   "outputs": [],
   "source": [
    "swmFile = OS.path.join(fullPath, \"fixed250k.swm\")\n",
    "fixedSWM = WEIGHTS.distance2SWM(fullFC, swmFile, masterField, \n",
    "                                threshold = 250000)"
   ]
  },
  {
   "cell_type": "markdown",
   "metadata": {
    "deletable": true,
    "editable": true
   },
   "source": [
    "*Example: Inverse Distance Squared*"
   ]
  },
  {
   "cell_type": "code",
   "execution_count": null,
   "metadata": {
    "collapsed": false,
    "deletable": true,
    "editable": true
   },
   "outputs": [],
   "source": [
    "swmFile = OS.path.join(fullPath, \"inv2_250k.swm\")\n",
    "fixedSWM = WEIGHTS.distance2SWM(fullFC, swmFile, masterField, fixed = False,\n",
    "                                exponent = 2.0, threshold = 250000)"
   ]
  },
  {
   "cell_type": "markdown",
   "metadata": {
    "deletable": true,
    "editable": true
   },
   "source": [
    "### k-Nearest Neighbors Options\n",
    "``` INPUTS: \n",
    "    inputFC (str): path to the input feature class\n",
    "    swmFile (str): path to the SWM file.\n",
    "    masterField (str): field in table that serves as the mapping.\n",
    "    concept: {str, EUCLIDEAN}: EUCLIDEAN or MANHATTAN \n",
    "    kNeighs {int, 1}: number of neighbors to return\n",
    "    rowStandard {bool, True}: row standardize weights?\n",
    "```\n",
    "\n",
    "*Example: 8-nearest neighbors*"
   ]
  },
  {
   "cell_type": "code",
   "execution_count": null,
   "metadata": {
    "collapsed": false,
    "deletable": true,
    "editable": true
   },
   "outputs": [],
   "source": [
    "swmFile = OS.path.join(fullPath, \"knn8.swm\")\n",
    "fixedSWM = WEIGHTS.kNearest2SWM(fullFC, swmFile, masterField, kNeighs = 8)"
   ]
  },
  {
   "cell_type": "markdown",
   "metadata": {
    "deletable": true,
    "editable": true
   },
   "source": [
    "*Example: Fixed Distance - k-nearest neighbor hybrid [i.e. at least k neighbors but may have more...]*"
   ]
  },
  {
   "cell_type": "code",
   "execution_count": null,
   "metadata": {
    "collapsed": false,
    "deletable": true,
    "editable": true
   },
   "outputs": [],
   "source": [
    "swmFile = OS.path.join(fullPath, \"fixed250k_knn8.swm\")\n",
    "fixedSWM = WEIGHTS.distance2SWM(fullFC, swmFile, masterField, kNeighs = 8,\n",
    "                                threshold = 250000)"
   ]
  },
  {
   "cell_type": "markdown",
   "metadata": {
    "deletable": true,
    "editable": true
   },
   "source": [
    "### Delaunay Triangulation Options\n",
    "``` INPUTS: \n",
    "    inputFC (str): path to the input feature class\n",
    "    swmFile (str): path to the SWM file.\n",
    "    masterField (str): field in table that serves as the mapping.\n",
    "    rowStandard {bool, True}: row standardize weights?\n",
    "```\n",
    "\n",
    "*Example: delaunay*"
   ]
  },
  {
   "cell_type": "code",
   "execution_count": null,
   "metadata": {
    "collapsed": false,
    "deletable": true,
    "editable": true
   },
   "outputs": [],
   "source": [
    "swmFile = OS.path.join(fullPath, \"delaunay.swm\")\n",
    "fixedSWM = WEIGHTS.delaunay2SWM(fullFC, swmFile, masterField)"
   ]
  },
  {
   "cell_type": "markdown",
   "metadata": {
    "deletable": true,
    "editable": true
   },
   "source": [
    "### Polygon Contiguity Options <a id=\"poly_options\"></a>\n",
    "``` INPUTS: \n",
    "    inputFC (str): path to the input feature class\n",
    "    swmFile (str): path to the SWM file.\n",
    "    masterField (str): field in table that serves as the mapping.\n",
    "    concept: {str, EUCLIDEAN}: EUCLIDEAN or MANHATTAN\n",
    "    kNeighs {int, 0}: number of neighbors to return (1)\n",
    "    rowStandard {bool, True}: row standardize weights?\n",
    "    contiguityType {str, Rook}: {Rook = Edges Only, Queen = Edges/Vertices}\n",
    "\n",
    "    NOTES:\n",
    "    (1) kNeighs is an option often used when you know there are polygon\n",
    "        features that are not contiguous (e.g. islands).  A kNeighs value \n",
    "        of 2 will assure that ALL features have at least 2 neighbors.  \n",
    "        If a polygon is determined to only touch a single other polygon, \n",
    "        then a nearest neighbor search based on true centroids are used \n",
    "        to find the additional neighbor.\n",
    "```\n",
    "\n",
    "*Example: Rook [Binary]*"
   ]
  },
  {
   "cell_type": "code",
   "execution_count": null,
   "metadata": {
    "collapsed": false,
    "deletable": true,
    "editable": true
   },
   "outputs": [],
   "source": [
    "swmFile = OS.path.join(fullPath, \"rook_bin.swm\")\n",
    "WEIGHTS.polygon2SWM(inputFC, swmFile, masterField, rowStandard = False)"
   ]
  },
  {
   "cell_type": "markdown",
   "metadata": {
    "deletable": true,
    "editable": true
   },
   "source": [
    "*Example: Queen Contiguity [Row Standardized]"
   ]
  },
  {
   "cell_type": "code",
   "execution_count": null,
   "metadata": {
    "collapsed": true,
    "deletable": true,
    "editable": true
   },
   "outputs": [],
   "source": [
    "swmFile = OS.path.join(fullPath, \"queen.swm\")\n",
    "WEIGHTS.polygon2SWM(inputFC, swmFile, masterField, contiguityType = \"QUEEN\")"
   ]
  },
  {
   "cell_type": "markdown",
   "metadata": {
    "deletable": true,
    "editable": true
   },
   "source": [
    "*Example: Queen Contiguity - KNN Hybrid [Prevents Islands w/ no Neighbors][\n",
    "(1)](#poly_options)*"
   ]
  },
  {
   "cell_type": "code",
   "execution_count": null,
   "metadata": {
    "collapsed": false,
    "deletable": true,
    "editable": true
   },
   "outputs": [],
   "source": [
    "swmFile = OS.path.join(fullPath, \"hybrid.swm\")\n",
    "WEIGHTS.polygon2SWM(inputFC, swmFile, masterField, kNeighs = 4)"
   ]
  },
  {
   "cell_type": "markdown",
   "metadata": {
    "deletable": true,
    "editable": true
   },
   "source": [
    "# On-the-fly Neighborhood Iterators [GA Table]\n",
    "1. Reads centroids of input features into spatial tree structure.\n",
    "2. Distance Based Queries. \n",
    "3. Scalable: In-memory/disk-space swap for large data.\n",
    "4. Requires a unique long/short field to identify each features.  **Can be the OID/FID.**\n",
    "5. Uses **ssdo.obtainDataGA** instead of **ssdo.obtainData**"
   ]
  },
  {
   "cell_type": "markdown",
   "metadata": {
    "deletable": true,
    "editable": true
   },
   "source": [
    "*Pre-Example: Load the Data into GA Version of SSDataObject*"
   ]
  },
  {
   "cell_type": "code",
   "execution_count": null,
   "metadata": {
    "collapsed": false,
    "deletable": true,
    "editable": true
   },
   "outputs": [],
   "source": [
    "import SSDataObject as SSDO\n",
    "inputFC = r'../data/CA_Polygons.shp'\n",
    "ssdo = SSDO.SSDataObject(inputFC)\n",
    "uniqueIDField = ssdo.oidName\n",
    "ssdo.obtainDataGA(uniqueIDField)"
   ]
  },
  {
   "cell_type": "markdown",
   "metadata": {
    "deletable": true,
    "editable": true
   },
   "source": [
    "*Example: NeighborSearch - When you only need your Neighbor IDs*\n",
    "\n",
    "*gaSearch.init_nearest(distance_band, minimum_num_neighs, {\"euclidean\", \"manhattan\")*"
   ]
  },
  {
   "cell_type": "code",
   "execution_count": null,
   "metadata": {
    "collapsed": false,
    "deletable": true,
    "editable": true
   },
   "outputs": [],
   "source": [
    "import arcgisscripting as ARC\n",
    "import WeightsUtilities as WU\n",
    "import gapy as GAPY\n",
    "gaSearch = GAPY.ga_nsearch(ssdo.gaTable)\n",
    "concept, gaConcept = WU.validateDistanceMethod('EUCLIDEAN', ssdo.spatialRef)\n",
    "gaSearch.init_nearest(0.0, 4, gaConcept)\n",
    "neighSearch = ARC._ss.NeighborSearch(ssdo.gaTable, gaSearch)\n",
    "for i in range(len(neighSearch)):\n",
    "    neighOrderIDs = neighSearch[i]\n",
    "    if i < 5:\n",
    "        print(neighOrderIDs)"
   ]
  },
  {
   "cell_type": "markdown",
   "metadata": {
    "deletable": true,
    "editable": true
   },
   "source": [
    "*Example: NeighborWeights - When you need non-uniform spatial weights (E.g. Inverse Distance Squared)*\n",
    "\n",
    "*NeighborWeights(gaTable, gaSearch, weight_type [0: inverse_distance, **1: fixed_distance**], exponent = 1.0, row_standard = True, include_self = False)*"
   ]
  },
  {
   "cell_type": "code",
   "execution_count": null,
   "metadata": {
    "collapsed": false,
    "deletable": true,
    "editable": true
   },
   "outputs": [],
   "source": [
    "gaSearch = GAPY.ga_nsearch(ssdo.gaTable)\n",
    "gaSearch.init_nearest(250000, 0, gaConcept)\n",
    "neighSearch = ARC._ss.NeighborWeights(ssdo.gaTable, gaSearch, weight_type = 0, exponent = 2.0)\n",
    "for i in range(len(neighSearch)):\n",
    "    neighOrderIDs, neighWeights = neighSearch[i]\n",
    "    if i < 3:\n",
    "        print(neighOrderIDs)\n",
    "        print(neighWeights)"
   ]
  },
  {
   "cell_type": "markdown",
   "metadata": {
    "deletable": true,
    "editable": true
   },
   "source": [
    "# Contructing PySAL Spatial Weights \n",
    "1. Convert masterID to orderID when using ssdo.obtainData (SWM File, Polygon Contiguity) \n",
    "2. Data is already in orderID when using ssdo.obtainDataGA (Distance Based)"
   ]
  },
  {
   "cell_type": "markdown",
   "metadata": {
    "deletable": true,
    "editable": true
   },
   "source": [
    "**Methods in next cell can be imported from pysal2ArcGIS.py**"
   ]
  },
  {
   "cell_type": "code",
   "execution_count": null,
   "metadata": {
    "collapsed": false,
    "deletable": true,
    "editable": true
   },
   "outputs": [],
   "source": [
    "import pysal as PYSAL\n",
    "import WeightsUtilities as WU\n",
    "import SSUtilities as UTILS\n",
    "\n",
    "def swm2Weights(ssdo, swmfile):\n",
    "    \"\"\"Converts ArcGIS Sparse Spatial Weights Matrix (*.swm) file to \n",
    "    PySAL Sparse Spatial Weights Class.\n",
    "    \n",
    "    INPUTS:\n",
    "    ssdo (class): instance of SSDataObject [1,2]\n",
    "    swmFile (str): full path to swm file\n",
    "    \n",
    "    NOTES:\n",
    "    (1) Data must already be obtained using ssdo.obtainData()\n",
    "    (2) The masterField for the swm file and the ssdo object must be\n",
    "        the same and may NOT be the OID/FID/ObjectID\n",
    "    \"\"\"\n",
    "    neighbors = {}\n",
    "    weights = {}\n",
    "    \n",
    "    #### Create SWM Reader Object ####\n",
    "    swm = WU.SWMReader(swmfile)\n",
    "    \n",
    "    #### SWM May NOT be a Subset of the Data ####\n",
    "    if ssdo.numObs > swm.numObs:\n",
    "        ARCPY.AddIDMessage(\"ERROR\", 842, ssdo.numObs, swm.numObs)\n",
    "        raise SystemExit()\n",
    "        \n",
    "    #### Parse All SWM Records ####\n",
    "    for r in UTILS.ssRange(swm.numObs):\n",
    "        info = swm.swm.readEntry()\n",
    "        masterID, nn, nhs, w, sumUnstandard = info\n",
    "        \n",
    "        #### Must Have at Least One Neighbor ####\n",
    "        if nn:\n",
    "            #### Must be in Selection Set (If Exists) ####\n",
    "            if masterID in ssdo.master2Order:\n",
    "                outNHS = []\n",
    "                outW = []\n",
    "                \n",
    "                #### Transform Master ID to Order ID ####\n",
    "                orderID = ssdo.master2Order[masterID]\n",
    "                \n",
    "                #### Neighbors and Weights Adjusted for Selection ####\n",
    "                for nhInd, nhVal in enumerate(nhs):\n",
    "                    try:\n",
    "                        nhOrder = ssdo.master2Order[nhVal]\n",
    "                        outNHS.append(nhOrder)\n",
    "                        weightVal = w[nhInd]\n",
    "                        if swm.rowStandard:\n",
    "                            weightVal = weightVal * sumUnstandard[0]\n",
    "                        outW.append(weightVal)\n",
    "                    except KeyError:\n",
    "                        pass\n",
    "                \n",
    "                #### Add Selected Neighbors/Weights ####\n",
    "                if len(outNHS):\n",
    "                    neighbors[orderID] = outNHS\n",
    "                    weights[orderID] = outW\n",
    "    swm.close()\n",
    "    \n",
    "    #### Construct PySAL Spatial Weights and Standardize as per SWM ####\n",
    "    w = PYSAL.W(neighbors, weights)\n",
    "    if swm.rowStandard:\n",
    "        w.transform = 'R'\n",
    "        \n",
    "    return w\n",
    "\n",
    "def poly2Weights(ssdo, contiguityType = \"ROOK\", rowStandard = True):\n",
    "    \"\"\"Uses GP Polygon Neighbor Tool to construct contiguity relationships\n",
    "    and stores them in PySAL Sparse Spatial Weights class.\n",
    "    \n",
    "    INPUTS:\n",
    "    ssdo (class): instance of SSDataObject [1]\n",
    "    contiguityType {str, ROOK}: ROOK or QUEEN contiguity\n",
    "    rowStandard {bool, True}: whether to row standardize the spatial weights\n",
    "    \n",
    "    NOTES:\n",
    "    (1) Data must already be obtained using ssdo.obtainData() or ssdo.obtainDataGA ()\n",
    "    \"\"\"\n",
    "    \n",
    "    neighbors = {}\n",
    "    weights = {}\n",
    "    polyNeighDict = WU.polygonNeighborDict(ssdo.inputFC, ssdo.masterField,\n",
    "                                           contiguityType = contiguityType)\n",
    "    \n",
    "    for masterID, neighIDs in UTILS.iteritems(polyNeighDict):\n",
    "        orderID = ssdo.master2Order[masterID]\n",
    "        neighbors[orderID] = [ssdo.master2Order[i] for i in neighIDs]\n",
    "\n",
    "    w = PYSAL.W(neighbors)\n",
    "    if rowStandard:\n",
    "        w.transform = 'R'\n",
    "    return w\n",
    "\n",
    "def distance2Weights(ssdo, neighborType = 1, distanceBand = 0.0, numNeighs = 0, distanceType = \"euclidean\",\n",
    "                     exponent = 1.0, rowStandard = True, includeSelf = False):\n",
    "    \"\"\"Uses ArcGIS Neighborhood Searching Structure to create a PySAL Sparse Spatial Weights Matrix.\n",
    "    \n",
    "    INPUTS:\n",
    "    ssdo (class): instance of SSDataObject [1]\n",
    "    neighborType {int, 1}: 0 = inverse distance, 1 = fixed distance, \n",
    "                           2 = k-nearest-neighbors, 3 = delaunay\n",
    "    distanceBand {float, 0.0}: return all neighbors within this distance for inverse/fixed distance\n",
    "    numNeighs {int, 0}: number of neighbors for k-nearest-neighbor, can also be used to set a minimum \n",
    "                        number of neighbors for inverse/fixed distance\n",
    "    distanceType {str, euclidean}: manhattan or euclidean distance [2]  \n",
    "    exponent {float, 1.0}: distance decay factor for inverse distance\n",
    "    rowStandard {bool, True}: whether to row standardize the spatial weights\n",
    "    includeSelf {bool, False}: whether to return self as a neighbor\n",
    "    \n",
    "    NOTES:\n",
    "    (1) Data must already be obtained using ssdo.obtainDataGA()\n",
    "    (2) Chordal Distance is used for GCS Data\n",
    "    \"\"\"\n",
    "    \n",
    "    neighbors = {}\n",
    "    weights = {}\n",
    "    gaSearch = GAPY.ga_nsearch(ssdo.gaTable)\n",
    "    if neighborType == 3:\n",
    "        gaSearch.init_delaunay()\n",
    "        neighSearch = ARC._ss.NeighborWeights(ssdo.gaTable, gaSearch, weight_type = 1)\n",
    "    else:\n",
    "        if neighborType == 2:\n",
    "            distanceBand = 0.0\n",
    "            weightType = 1\n",
    "        else:\n",
    "            weightType = neighborType\n",
    "        \n",
    "        concept, gaConcept = WU.validateDistanceMethod(distanceType.upper(), ssdo.spatialRef)\n",
    "        gaSearch.init_nearest(distanceBand, numNeighs, gaConcept)\n",
    "        neighSearch = ARC._ss.NeighborWeights(ssdo.gaTable, gaSearch, weight_type = weightType, \n",
    "                                              exponent = exponent, include_self = includeSelf)\n",
    "        \n",
    "    for i in range(len(neighSearch)):\n",
    "        neighOrderIDs, neighWeights = neighSearch[i]\n",
    "        neighbors[i] = neighOrderIDs\n",
    "        weights[i] = neighWeights\n",
    "        \n",
    "    w = PYSAL.W(neighbors, weights)\n",
    "    if rowStandard:\n",
    "        w.transform = 'R'\n",
    "    return w "
   ]
  },
  {
   "cell_type": "markdown",
   "metadata": {},
   "source": [
    "# Converting Spatial Weight Matrix Formats (e.g. *.swm, *.gwt, *.gal)\n",
    "\n",
    "- Follow directions at the PySAL-ArcGIS-Toolbox Git Repository [https://github.com/Esri/PySAL-ArcGIS-Toolbox]\n",
    "- Please make note of the section on **Adding a Git Project to your ArcGIS Installation Python Path**.\n"
   ]
  },
  {
   "cell_type": "code",
   "execution_count": null,
   "metadata": {
    "collapsed": false
   },
   "outputs": [],
   "source": [
    "import WeightConvertor as W_CONVERT\n",
    "swmFile = OS.path.join(fullPath, \"queen.swm\")\n",
    "galFile = OS.path.join(fullPath, \"queen.gal\")\n",
    "convert = W_CONVERT.WeightConvertor(swmFile, galFile, inputFC, \"MYID\", \"SWM\", \"GAL\")\n",
    "convert.createOutput()"
   ]
  },
  {
   "cell_type": "markdown",
   "metadata": {
    "collapsed": true,
    "deletable": true,
    "editable": true
   },
   "source": [
    "**Calling MaxP Regions Using SWM Based on Rook Contiguity, No Row Standardization**"
   ]
  },
  {
   "cell_type": "code",
   "execution_count": null,
   "metadata": {
    "collapsed": false,
    "deletable": true,
    "editable": true
   },
   "outputs": [],
   "source": [
    "import numpy as NUM\n",
    "NUM.random.seed(100)\n",
    "ssdo = SSDO.SSDataObject(inputFC)\n",
    "uniqueIDField = \"MYID\"\n",
    "fieldNames = ['PCR2010', 'POP2010', 'PERCNOHS']\n",
    "ssdo.obtainDataGA(uniqueIDField, fieldNames)\n",
    "df = ssdo.getDataFrame()\n",
    "X = df.as_matrix()\n",
    "swmFile = OS.path.join(fullPath, \"rook_bin.swm\")\n",
    "w = swm2Weights(ssdo, swmFile)\n",
    "maxp = PYSAL.region.Maxp(w, X[:,0:2], 3000000., floor_variable = X[:,2])\n",
    "maxpGroups = NUM.empty((ssdo.numObs,), int)\n",
    "for regionID, orderIDs in enumerate(maxp.regions):\n",
    "    maxpGroups[orderIDs] = regionID\n",
    "    print((regionID, orderIDs))"
   ]
  },
  {
   "cell_type": "markdown",
   "metadata": {
    "deletable": true,
    "editable": true
   },
   "source": [
    "**Calling MaxP Regions Using Rook Contiguity, No Row Standardization**"
   ]
  },
  {
   "cell_type": "code",
   "execution_count": null,
   "metadata": {
    "collapsed": false,
    "deletable": true,
    "editable": true
   },
   "outputs": [],
   "source": [
    "NUM.random.seed(100)\n",
    "w = poly2Weights(ssdo, rowStandard = False)\n",
    "maxp = PYSAL.region.Maxp(w, X[:,0:2], 3000000., floor_variable = X[:,2])\n",
    "maxpGroups = NUM.empty((ssdo.numObs,), int)\n",
    "for regionID, orderIDs in enumerate(maxp.regions):\n",
    "    maxpGroups[orderIDs] = regionID\n",
    "    print((regionID, orderIDs))"
   ]
  },
  {
   "cell_type": "markdown",
   "metadata": {
    "deletable": true,
    "editable": true
   },
   "source": [
    "**Identical results because the random seed was set to 100 and they have the same spatial neighborhood**"
   ]
  },
  {
   "cell_type": "markdown",
   "metadata": {
    "deletable": true,
    "editable": true
   },
   "source": [
    "**Calling MaxP Regions Using Fixed Distance 250000, Hyrbid to Assure at least 2 Neighbors**"
   ]
  },
  {
   "cell_type": "code",
   "execution_count": null,
   "metadata": {
    "collapsed": false,
    "deletable": true,
    "editable": true
   },
   "outputs": [],
   "source": [
    "NUM.random.seed(100)\n",
    "w = distance2Weights(ssdo, distanceBand = 250000.0, numNeighs = 2)\n",
    "maxp = PYSAL.region.Maxp(w, X[:,0:2], 3000000., floor_variable = X[:,2])\n",
    "maxpGroups = NUM.empty((ssdo.numObs,), int)\n",
    "for regionID, orderIDs in enumerate(maxp.regions):\n",
    "    maxpGroups[orderIDs] = regionID\n",
    "    print((regionID, orderIDs))"
   ]
  },
  {
   "cell_type": "markdown",
   "metadata": {
    "collapsed": true,
    "deletable": true,
    "editable": true
   },
   "source": [
    "**Same random seed, different result as neighborhood is different than the two previous**"
   ]
  }
 ],
 "metadata": {
  "kernelspec": {
   "display_name": "Python 3",
   "language": "python",
   "name": "python3"
  },
  "language_info": {
   "codemirror_mode": {
    "name": "ipython",
    "version": 3
   },
   "file_extension": ".py",
   "mimetype": "text/x-python",
   "name": "python",
   "nbconvert_exporter": "python",
   "pygments_lexer": "ipython3",
   "version": "3.5.3"
  },
  "widgets": {
   "state": {},
   "version": "1.1.2"
  }
 },
 "nbformat": 4,
 "nbformat_minor": 0
}
