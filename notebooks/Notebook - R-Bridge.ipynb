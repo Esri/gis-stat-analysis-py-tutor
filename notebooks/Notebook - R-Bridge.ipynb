{
 "cells": [
  {
   "cell_type": "markdown",
   "metadata": {},
   "source": [
    "# Connecting  ArcGIS PRO - R"
   ]
  },
  {
   "cell_type": "code",
   "execution_count": 5,
   "metadata": {
    "collapsed": false
   },
   "outputs": [
    {
     "data": {
      "text/html": [
       "<dl>\n",
       "\t<dt>$license</dt>\n",
       "\t\t<dd>'Advanced'</dd>\n",
       "\t<dt>$version</dt>\n",
       "\t\t<dd>'12.0.0.8348'</dd>\n",
       "\t<dt>$path</dt>\n",
       "\t\t<dd>'C:\\ArcGIS\\'</dd>\n",
       "\t<dt>$dll</dt>\n",
       "\t\t<dd>'rarcproxy_pro'</dd>\n",
       "\t<dt>$app</dt>\n",
       "\t\t<dd>'ArcGIS Pro'</dd>\n",
       "\t<dt>$pkg_ver</dt>\n",
       "\t\t<dd>'1.0.0.124'</dd>\n",
       "</dl>\n"
      ],
      "text/latex": [
       "\\begin{description}\n",
       "\\item[\\$license] 'Advanced'\n",
       "\\item[\\$version] '12.0.0.8348'\n",
       "\\item[\\$path] 'C:\\textbackslash{}ArcGIS\\textbackslash{}'\n",
       "\\item[\\$dll] 'rarcproxy\\_pro'\n",
       "\\item[\\$app] 'ArcGIS Pro'\n",
       "\\item[\\$pkg\\_ver] '1.0.0.124'\n",
       "\\end{description}\n"
      ],
      "text/markdown": [
       "$license\n",
       ":   'Advanced'\n",
       "$version\n",
       ":   '12.0.0.8348'\n",
       "$path\n",
       ":   'C:\\ArcGIS\\'\n",
       "$dll\n",
       ":   'rarcproxy_pro'\n",
       "$app\n",
       ":   'ArcGIS Pro'\n",
       "$pkg_ver\n",
       ":   '1.0.0.124'\n",
       "\n",
       "\n"
      ],
      "text/plain": [
       "product: ArcGIS Pro ( 12.0.0.8348 )\n",
       "license: Advanced "
      ]
     },
     "metadata": {},
     "output_type": "display_data"
    }
   ],
   "source": [
    "###### Importing ####\n",
    "library(arcgisbinding)\n",
    "library(sp)\n",
    "library(spdep)\n",
    "#### Initialize arcgisbinding ####6\n",
    "arc.check_product()\n",
    "\n"
   ]
  },
  {
   "cell_type": "code",
   "execution_count": 7,
   "metadata": {
    "collapsed": false
   },
   "outputs": [
    {
     "data": {
      "text/html": [
       "'C:/Dev_summit/2017/Data'"
      ],
      "text/latex": [
       "'C:/Dev\\_summit/2017/Data'"
      ],
      "text/markdown": [
       "'C:/Dev_summit/2017/Data'"
      ],
      "text/plain": [
       "[1] \"C:/Dev_summit/2017/Data\""
      ]
     },
     "metadata": {},
     "output_type": "display_data"
    }
   ],
   "source": [
    "setwd(\"C:\\\\Dev_summit\\\\2017\\\\Data\")\n",
    "#### Read Features ####\n",
    "inputFC <- \"CA_Polygons.shp\"\n",
    "outputFC <- \"C:\\\\Dev_summit\\\\2017\\\\R-Demo\\\\R-Demo.gdb\\\\output\"\n",
    "getwd()\n",
    "\n"
   ]
  },
  {
   "cell_type": "code",
   "execution_count": 11,
   "metadata": {
    "collapsed": false
   },
   "outputs": [
    {
     "data": {},
     "metadata": {},
     "output_type": "display_data"
    },
    {
     "data": {
      "image/png": "[encoded data removed]",
      "text/plain": [
       "plot without title"
      ]
     },
     "metadata": {},
     "output_type": "display_data"
    }
   ],
   "source": [
    "info <- arc.open(inputFC)\n",
    "\n",
    "#### Create Data.Frame ####\n",
    "df <- arc.select(info, c(\"FID\", \"PCR2000\", \"POP2000\"))\n",
    "\n",
    "#### Spatial Data Object####\n",
    "spObject <- arc.data2sp(df)\n",
    "\n",
    "#### Plot Spatial Data #### \n",
    "spplot(spObject)\n"
   ]
  },
  {
   "cell_type": "code",
   "execution_count": 16,
   "metadata": {
    "collapsed": false
   },
   "outputs": [
    {
     "data": {
      "text/html": [
       "<ol class=list-inline>\n",
       "\t<li>0.156989973642394</li>\n",
       "\t<li>0.170511838475212</li>\n",
       "\t<li>0.0569997757721883</li>\n",
       "\t<li>0.114932603099713</li>\n",
       "\t<li>0.110160270920657</li>\n",
       "</ol>\n"
      ],
      "text/latex": [
       "\\begin{enumerate*}\n",
       "\\item 0.156989973642394\n",
       "\\item 0.170511838475212\n",
       "\\item 0.0569997757721883\n",
       "\\item 0.114932603099713\n",
       "\\item 0.110160270920657\n",
       "\\end{enumerate*}\n"
      ],
      "text/markdown": [
       "1. 0.156989973642394\n",
       "2. 0.170511838475212\n",
       "3. 0.0569997757721883\n",
       "4. 0.114932603099713\n",
       "5. 0.110160270920657\n",
       "\n",
       "\n"
      ],
      "text/plain": [
       "[1] 0.15698997 0.17051184 0.05699978 0.11493260 0.11016027"
      ]
     },
     "metadata": {},
     "output_type": "display_data"
    }
   ],
   "source": [
    "#### Create Spatial Dependence Weight Matrix ####\n",
    "gal <- poly2nb(spObject)\n",
    "\n",
    "#### Extract the Weight ####\n",
    "w <- nb2listw(gal)\n",
    "\n",
    "#### Calculate Local Morans I ####\n",
    "y <- spObject$POP2000\n",
    "liw <- localmoran(y,w)\n",
    "liw[0:5]"
   ]
  },
  {
   "cell_type": "code",
   "execution_count": 18,
   "metadata": {
    "collapsed": false
   },
   "outputs": [],
   "source": [
    "#### Add New Column/Field to Data.Frame ####\n",
    "df_liw <- as.data.frame(liw)\n",
    "li <- df_liw$Ii\n",
    "zi <- df_liw$Z.Ii\n",
    "pv <- df_liw$Pr\n",
    "df$LI <- li\n",
    "df$ZI <- zi\n",
    "df$PValue <- pv\n"
   ]
  },
  {
   "cell_type": "code",
   "execution_count": 19,
   "metadata": {
    "collapsed": false
   },
   "outputs": [
    {
     "name": "stdout",
     "output_type": "stream",
     "text": [
      "19 30 33 36 37 "
     ]
    }
   ],
   "source": [
    "#### Create Bin Output ####\n",
    "n <- length(li)\n",
    "bins <- matrix(\"\", n, 1)\n",
    "slag <- lag(w, y)\n",
    "mean_y <- mean(y)\n",
    "for (index in 1:n){\n",
    "  sig <- pv[index] < .05\n",
    "  if (sig){\n",
    "    globalBool <- y[index] >= mean_y\n",
    "    clusterBool <- zi[index] > 0\n",
    "    localBool <- slag[index] >= mean_y\n",
    "    if (clusterBool){\n",
    "      if (localBool){\n",
    "        bins[index] = \"HH\"\n",
    "        cat(index)\n",
    "        cat(\" \")\n",
    "      }\n",
    "      else{\n",
    "        bins[index] = \"LL\"\n",
    "      }\n",
    "    }\n",
    "    else{\n",
    "      if (globalBool && !localBool){\n",
    "        bins[index] = \"HL\"\n",
    "      }\n",
    "      else{\n",
    "        bins[index] = \"LH\"\n",
    "      }\n",
    "    }\n",
    "  }\n",
    "}\n",
    "df$COType <- bins"
   ]
  },
  {
   "cell_type": "code",
   "execution_count": 20,
   "metadata": {
    "collapsed": false
   },
   "outputs": [
    {
     "data": {
      "image/png": "[encoded data removed]",
      "text/plain": [
       "plot without title"
      ]
     },
     "metadata": {},
     "output_type": "display_data"
    }
   ],
   "source": [
    "#### Plot Results ####\n",
    "moran.plot(y, w)"
   ]
  },
  {
   "cell_type": "code",
   "execution_count": 21,
   "metadata": {
    "collapsed": false
   },
   "outputs": [
    {
     "data": {
      "text/html": [
       "'C:\\Dev_summit\\2017\\R-Demo\\R-Demo.gdb\\output'"
      ],
      "text/latex": [
       "'C:\\textbackslash{}Dev\\_summit\\textbackslash{}2017\\textbackslash{}R-Demo\\textbackslash{}R-Demo.gdb\\textbackslash{}output'"
      ],
      "text/markdown": [
       "'C:\\Dev_summit\\2017\\R-Demo\\R-Demo.gdb\\output'"
      ],
      "text/plain": [
       "[1] \"C:\\\\Dev_summit\\\\2017\\\\R-Demo\\\\R-Demo.gdb\\\\output\""
      ]
     },
     "metadata": {},
     "output_type": "display_data"
    }
   ],
   "source": [
    "#### Export Spatial Data to Feature Class ####\n",
    "arc.write(outputFC, df)\n",
    "outputFC"
   ]
  }
 ],
 "metadata": {
  "kernelspec": {
   "display_name": "R",
   "language": "R",
   "name": "ir"
  },
  "language_info": {
   "codemirror_mode": "r",
   "file_extension": ".r",
   "mimetype": "text/x-r-source",
   "name": "R",
   "pygments_lexer": "r",
   "version": "3.2.3"
  }
 },
 "nbformat": 4,
 "nbformat_minor": 2
}
