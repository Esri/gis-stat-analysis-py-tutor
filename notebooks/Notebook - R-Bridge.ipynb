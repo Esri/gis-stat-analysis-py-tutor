{
 "cells": [
  {
   "cell_type": "markdown",
   "metadata": {
    "deletable": true,
    "editable": true
   },
   "source": [
    "# Connecting  ArcGIS PRO - R"
   ]
  },
  {
   "cell_type": "code",
   "execution_count": null,
   "metadata": {
    "collapsed": false,
    "deletable": true,
    "editable": true
   },
   "outputs": [],
   "source": [
    "###### Importing ####\n",
    "library(arcgisbinding)\n",
    "library(sp)\n",
    "library(spdep)\n"
   ]
  },
  {
   "cell_type": "code",
   "execution_count": null,
   "metadata": {
    "collapsed": false,
    "deletable": true,
    "editable": true
   },
   "outputs": [],
   "source": [
    "#### Initialize arcgisbinding ####\n",
    "arc.check_product()"
   ]
  },
  {
   "cell_type": "code",
   "execution_count": null,
   "metadata": {
    "collapsed": false,
    "deletable": true,
    "editable": true
   },
   "outputs": [],
   "source": [
    "##### Current workspace \n",
    "getwd()\n",
    "\n",
    "#### Read Features ####\n",
    "fullPath = '../data'\n",
    "inputFCName = \"pysal_automodel.shp\"\n",
    "inputFC = file.path(fullPath, inputFCName)\n"
   ]
  },
  {
   "cell_type": "code",
   "execution_count": null,
   "metadata": {
    "collapsed": false,
    "deletable": true,
    "editable": true
   },
   "outputs": [],
   "source": [
    "### Loading dataset\n",
    "info <- arc.open(inputFC)\n",
    "#### Create Data.Frame ####\n",
    "df <- arc.select(info, c(\"MYID\", 'RESID'))\n",
    "head(df)"
   ]
  },
  {
   "cell_type": "code",
   "execution_count": null,
   "metadata": {
    "collapsed": false,
    "deletable": true,
    "editable": true
   },
   "outputs": [],
   "source": [
    "#### Spatial Data Object####\n",
    "spObject <- arc.data2sp(df)\n",
    "\n",
    "#### Plot Spatial Data #### \n",
    "spplot(spObject['RESID'])"
   ]
  },
  {
   "cell_type": "code",
   "execution_count": null,
   "metadata": {
    "collapsed": false,
    "deletable": true,
    "editable": true
   },
   "outputs": [],
   "source": [
    "#### Loading Spatial Dependence Weight Matrix ####\n",
    "galFile = file.path(fullPath,\"queen.gal\")\n",
    "gal  <- read.gal(galFile, df$MYID)\n",
    "\n",
    "#### Weights #####\n",
    "col.W <- nb2listw(gal, style=\"W\")\n",
    "col.W"
   ]
  },
  {
   "cell_type": "code",
   "execution_count": null,
   "metadata": {
    "collapsed": false,
    "deletable": true,
    "editable": true
   },
   "outputs": [],
   "source": [
    "### Calculate Moran ####\n",
    "moranI = moran(df$RESID, col.W, length(gal), Szero(col.W))\n",
    "print(moranI$I)"
   ]
  },
  {
   "cell_type": "code",
   "execution_count": null,
   "metadata": {
    "collapsed": false,
    "deletable": true,
    "editable": true
   },
   "outputs": [],
   "source": [
    "### Moran plot ###\n",
    "moran.plot(df$RESID, col.W)"
   ]
  }
 ],
 "metadata": {
  "kernelspec": {
   "display_name": "R",
   "language": "R",
   "name": "ir"
  },
  "language_info": {
   "codemirror_mode": "r",
   "file_extension": ".r",
   "mimetype": "text/x-r-source",
   "name": "R",
   "pygments_lexer": "r",
   "version": "3.2.3"
  }
 },
 "nbformat": 4,
 "nbformat_minor": 2
}
