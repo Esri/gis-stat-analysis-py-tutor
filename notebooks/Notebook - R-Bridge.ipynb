{
 "cells": [
  {
   "cell_type": "markdown",
   "metadata": {
    "deletable": true,
    "editable": true
   },
   "source": [
    "# Check Spatial Autocorrelation of residuals\n",
    "ArcGIS PRO - R"
   ]
  },
  {
   "cell_type": "code",
   "execution_count": 6,
   "metadata": {
    "collapsed": false,
    "deletable": true,
    "editable": true
   },
   "outputs": [],
   "source": [
    "###### Importing ####\n",
    "library(arcgisbinding)\n",
    "library(sp)\n",
    "library(spdep)\n"
   ]
  },
  {
   "cell_type": "code",
   "execution_count": 7,
   "metadata": {
    "collapsed": false,
    "deletable": true,
    "editable": true
   },
   "outputs": [
    {
     "data": {
      "text/html": [
       "<dl>\n",
       "\t<dt>$license</dt>\n",
       "\t\t<dd>'Advanced'</dd>\n",
       "\t<dt>$version</dt>\n",
       "\t\t<dd>'12.0.0.8348'</dd>\n",
       "\t<dt>$path</dt>\n",
       "\t\t<dd>'C:\\ArcGIS\\'</dd>\n",
       "\t<dt>$dll</dt>\n",
       "\t\t<dd>'rarcproxy_pro'</dd>\n",
       "\t<dt>$app</dt>\n",
       "\t\t<dd>'ArcGIS Pro'</dd>\n",
       "\t<dt>$pkg_ver</dt>\n",
       "\t\t<dd>'1.0.0.124'</dd>\n",
       "</dl>\n"
      ],
      "text/latex": [
       "\\begin{description}\n",
       "\\item[\\$license] 'Advanced'\n",
       "\\item[\\$version] '12.0.0.8348'\n",
       "\\item[\\$path] 'C:\\textbackslash{}ArcGIS\\textbackslash{}'\n",
       "\\item[\\$dll] 'rarcproxy\\_pro'\n",
       "\\item[\\$app] 'ArcGIS Pro'\n",
       "\\item[\\$pkg\\_ver] '1.0.0.124'\n",
       "\\end{description}\n"
      ],
      "text/markdown": [
       "$license\n",
       ":   'Advanced'\n",
       "$version\n",
       ":   '12.0.0.8348'\n",
       "$path\n",
       ":   'C:\\ArcGIS\\'\n",
       "$dll\n",
       ":   'rarcproxy_pro'\n",
       "$app\n",
       ":   'ArcGIS Pro'\n",
       "$pkg_ver\n",
       ":   '1.0.0.124'\n",
       "\n",
       "\n"
      ],
      "text/plain": [
       "product: ArcGIS Pro ( 12.0.0.8348 )\n",
       "license: Advanced "
      ]
     },
     "metadata": {},
     "output_type": "display_data"
    }
   ],
   "source": [
    "#### Initialize arcgisbinding ####\n",
    "arc.check_product()"
   ]
  },
  {
   "cell_type": "code",
   "execution_count": 25,
   "metadata": {
    "collapsed": false,
    "deletable": true,
    "editable": true
   },
   "outputs": [
    {
     "data": {
      "text/html": [
       "'C:/Dev_summit/repos/gis-stat-analysis-py-tutor/notebooks'"
      ],
      "text/latex": [
       "'C:/Dev\\_summit/repos/gis-stat-analysis-py-tutor/notebooks'"
      ],
      "text/markdown": [
       "'C:/Dev_summit/repos/gis-stat-analysis-py-tutor/notebooks'"
      ],
      "text/plain": [
       "[1] \"C:/Dev_summit/repos/gis-stat-analysis-py-tutor/notebooks\""
      ]
     },
     "metadata": {},
     "output_type": "display_data"
    }
   ],
   "source": [
    "##### Current workspace \n",
    "getwd()\n",
    "\n",
    "#### Input Variables ####\n",
    "fullPath = '../data'\n",
    "inputFC = file.path(fullPath, \"pysal_automodel.shp\")\n",
    "galFile = file.path(fullPath,\"queen.gal\")\n",
    "uniqueField  = 'MYID'\n",
    "residualField = 'RESID'\n"
   ]
  },
  {
   "cell_type": "code",
   "execution_count": 26,
   "metadata": {
    "collapsed": false,
    "deletable": true,
    "editable": true
   },
   "outputs": [
    {
     "data": {
      "text/html": [
       "<table>\n",
       "<thead><tr><th scope=col>MYID</th><th scope=col>RESID</th></tr></thead>\n",
       "<tbody>\n",
       "\t<tr><td>158        </td><td> 0.05001064</td></tr>\n",
       "\t<tr><td>159        </td><td>-0.10076178</td></tr>\n",
       "\t<tr><td>160        </td><td>-0.08984409</td></tr>\n",
       "\t<tr><td>161        </td><td> 0.09165525</td></tr>\n",
       "\t<tr><td>162        </td><td> 0.17979697</td></tr>\n",
       "\t<tr><td>163        </td><td> 0.01613230</td></tr>\n",
       "</tbody>\n",
       "</table>\n"
      ],
      "text/latex": [
       "\\begin{tabular}{r|ll}\n",
       " MYID & RESID\\\\\n",
       "\\hline\n",
       "\t 158         &  0.05001064\\\\\n",
       "\t 159         & -0.10076178\\\\\n",
       "\t 160         & -0.08984409\\\\\n",
       "\t 161         &  0.09165525\\\\\n",
       "\t 162         &  0.17979697\\\\\n",
       "\t 163         &  0.01613230\\\\\n",
       "\\end{tabular}\n"
      ],
      "text/markdown": [
       "\n",
       "MYID | RESID | \n",
       "|---|---|---|---|---|---|\n",
       "| 158         |  0.05001064 | \n",
       "| 159         | -0.10076178 | \n",
       "| 160         | -0.08984409 | \n",
       "| 161         |  0.09165525 | \n",
       "| 162         |  0.17979697 | \n",
       "| 163         |  0.01613230 | \n",
       "\n",
       "\n"
      ],
      "text/plain": [
       "  MYID RESID      \n",
       "1 158   0.05001064\n",
       "2 159  -0.10076178\n",
       "3 160  -0.08984409\n",
       "4 161   0.09165525\n",
       "5 162   0.17979697\n",
       "6 163   0.01613230"
      ]
     },
     "metadata": {},
     "output_type": "display_data"
    }
   ],
   "source": [
    "### Loading dataset\n",
    "info <- arc.open(inputFC)\n",
    "#### Create Data.Frame ####\n",
    "df <- arc.select(info, c(uniqueField, residualField))\n",
    "head(df)"
   ]
  },
  {
   "cell_type": "code",
   "execution_count": 27,
   "metadata": {
    "collapsed": false,
    "deletable": true,
    "editable": true
   },
   "outputs": [
    {
     "data": {},
     "metadata": {},
     "output_type": "display_data"
    },
    {
     "data": {
      "image/png": "[encoded data removed]",
      "text/plain": [
       "plot without title"
      ]
     },
     "metadata": {},
     "output_type": "display_data"
    }
   ],
   "source": [
    "#### Spatial Data Object####\n",
    "spObject <- arc.data2sp(df)\n",
    "\n",
    "#### Plot Spatial Data #### \n",
    "spplot(spObject[residualField])"
   ]
  },
  {
   "cell_type": "code",
   "execution_count": 28,
   "metadata": {
    "collapsed": false,
    "deletable": true,
    "editable": true
   },
   "outputs": [
    {
     "data": {
      "text/plain": [
       "Characteristics of weights list object:\n",
       "Neighbour list object:\n",
       "Number of regions: 58 \n",
       "Number of nonzero links: 272 \n",
       "Percentage nonzero weights: 8.085612 \n",
       "Average number of links: 4.689655 \n",
       "\n",
       "Weights style: W \n",
       "Weights constants summary:\n",
       "   n   nn S0       S1       S2\n",
       "W 58 3364 58 27.57541 238.6975"
      ]
     },
     "metadata": {},
     "output_type": "display_data"
    }
   ],
   "source": [
    "#### Loading Spatial Dependence Weight Matrix ####\n",
    "gal  <- read.gal(galFile, df[[uniqueField]])\n",
    "\n",
    "#### Weights #####\n",
    "col.W <- nb2listw(gal, style=\"W\")\n",
    "col.W"
   ]
  },
  {
   "cell_type": "code",
   "execution_count": 29,
   "metadata": {
    "collapsed": false,
    "deletable": true,
    "editable": true
   },
   "outputs": [
    {
     "name": "stdout",
     "output_type": "stream",
     "text": [
      "[1] -0.1984385\n"
     ]
    }
   ],
   "source": [
    "### Calculate Moran ####\n",
    "moranI = moran(df[[residualField]], col.W, length(gal), Szero(col.W))\n",
    "print(moranI$I)"
   ]
  },
  {
   "cell_type": "code",
   "execution_count": 31,
   "metadata": {
    "collapsed": false,
    "deletable": true,
    "editable": true
   },
   "outputs": [
    {
     "data": {
      "image/png": "[encoded data removed]",
      "text/plain": [
       "plot without title"
      ]
     },
     "metadata": {},
     "output_type": "display_data"
    }
   ],
   "source": [
    "### Moran plot ###\n",
    "moran.plot(df[[residualField]], col.W)\n"
   ]
  }
 ],
 "metadata": {
  "kernelspec": {
   "display_name": "R",
   "language": "R",
   "name": "ir"
  },
  "language_info": {
   "codemirror_mode": "r",
   "file_extension": ".r",
   "mimetype": "text/x-r-source",
   "name": "R",
   "pygments_lexer": "r",
   "version": "3.2.3"
  }
 },
 "nbformat": 4,
 "nbformat_minor": 2
}
