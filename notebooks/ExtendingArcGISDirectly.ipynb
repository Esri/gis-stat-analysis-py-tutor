{
 "metadata": {
  "name": "ExtendingArcGISDirectly"
 },
 "nbformat": 3,
 "nbformat_minor": 0,
 "worksheets": [
  {
   "cells": [
    {
     "cell_type": "markdown",
     "metadata": {},
     "source": [
      "# Leveraging Open-Source Python Packages for Data Analysis within the ArcGIS Environment"
     ]
    },
    {
     "cell_type": "markdown",
     "metadata": {},
     "source": [
      "## Using NumPy as the common denominator\n",
      "\n",
      "- Could use the ArcPy Data Access Module directly, but there are host of issues/information one must take into account:\n",
      "    * Projections and other Environment Settings\n",
      "    * How Cursors affect the accounting of features\n",
      "    * How to deal with bad records/bad data\n",
      "- Spatial Statistics Data Object\n",
      "    * Almost 30 Tools written in Python that ${\\bf{must}}$  behave like traditional GP Tools\n",
      "    * Use SSDO and your code should adhere"
     ]
    },
    {
     "cell_type": "markdown",
     "metadata": {},
     "source": [
      "## Basic Imports"
     ]
    },
    {
     "cell_type": "code",
     "collapsed": false,
     "input": [
      "import arcpy as ARCPY\n",
      "import numpy as NUM\n",
      "import SSDataObject as SSDO"
     ],
     "language": "python",
     "metadata": {},
     "outputs": [],
     "prompt_number": 9
    },
    {
     "cell_type": "markdown",
     "metadata": {},
     "source": [
      "## Initialize Data Object and Query Attribute Fields"
     ]
    },
    {
     "cell_type": "code",
     "collapsed": false,
     "input": [
      "inputFC = r'../data/CA_Polygons.shp'\n",
      "ssdo = SSDO.SSDataObject(inputFC)\n",
      "for fieldName, fieldObject in ssdo.allFields.iteritems():\n",
      "    print fieldName, fieldObject.type\n"
     ],
     "language": "python",
     "metadata": {},
     "outputs": [
      {
       "output_type": "stream",
       "stream": "stdout",
       "text": [
        "FID OID\n",
        "POP1999 Integer\n",
        "POP1998 Integer\n",
        "POP1997 Integer\n",
        "POP1996 Integer\n",
        "POP1995 Integer\n",
        "POP1994 Integer\n",
        "POP1993 Integer\n",
        "POP1992 Integer\n",
        "POP1991 Integer\n",
        "POP1990 Integer\n",
        "POPDEN70 Double\n",
        "SOUTH Integer\n",
        "AMERI_ES Double\n",
        "MED_AGE_F Double\n",
        "MULT_RACE Double\n",
        "HAWN_PI Double\n",
        "PERCVACANT Double\n",
        "POP2009 Integer\n",
        "NEW_NAME String\n",
        "POP1988 Integer\n",
        "POP1989 Integer\n",
        "POP1984 Integer\n",
        "POP1985 Integer\n",
        "POP1986 Integer\n",
        "POP1987 Integer\n",
        "POP1980 Integer\n",
        "POP1981 Integer\n",
        "POP1982 Integer\n",
        "POP1983 Integer\n",
        "PCR1991 Double\n",
        "PCR1990 Double\n",
        "PCR1993 Double\n",
        "GROWTH Double\n",
        "PCR1995 Double\n",
        "PCR1994 Double\n",
        "PCR1997 Double\n",
        "PCR1996 Double\n",
        "PCR1999 Double\n",
        "PCR1998 Double\n",
        "POV1979 Integer\n",
        "NEW_FIPS String\n",
        "SHAPE_LENG Double\n",
        "SHAPE_AREA Double\n",
        "AGE_UNDER5 Double\n",
        "AGE_18_21 Double\n",
        "PCR1988 Double\n",
        "PCR1989 Double\n",
        "PCR1986 Double\n",
        "PCR1987 Double\n",
        "PCR1984 Double\n",
        "PCR1985 Double\n",
        "PCR1982 Double\n",
        "PCR1983 Double\n",
        "PCR1980 Double\n",
        "PCR1981 Double\n",
        "BIRTH1970 Integer\n",
        "HOUSEHOLDS Double\n",
        "PERCPOV69 Double\n",
        "POP2010 Integer\n",
        "CRUDEDEATH Double\n",
        "AGE_65_UP Double\n",
        "POV2009 Integer\n",
        "BEA_6 Integer\n",
        "AVG_SALE97 Double\n",
        "VACANT Double\n",
        "GR_69_02 Double\n",
        "SOCAL SmallInteger\n",
        "POP2000 Integer\n",
        "POP2001 Integer\n",
        "POP2002 Integer\n",
        "POP2003 Integer\n",
        "POP2004 Integer\n",
        "POP2005 Integer\n",
        "POP2006 Integer\n",
        "POP2007 Integer\n",
        "POP2008 Integer\n",
        "PCR2010 Double\n",
        "CRUDEBIRTH Double\n",
        "LOGPCR69 Double\n",
        "BEA_4 Double\n",
        "MYID Integer\n",
        "AGE_22_29 Double\n",
        "BEA_1 Integer\n",
        "BEA_2 Integer\n",
        "BEA_3 Integer\n",
        "FEMALES Double\n",
        "BEA_5 Double\n",
        "RENTER_OCC Double\n",
        "HISPANIC Double\n",
        "BEA_8 Integer\n",
        "PCR1971 Double\n",
        "PCR1973 Double\n",
        "PCR1972 Double\n",
        "SHAPE Geometry\n",
        "PCR1970 Double\n",
        "PCR1977 Double\n",
        "PCR1976 Double\n",
        "PCR1975 Double\n",
        "PCR1974 Double\n",
        "POINT_X Double\n",
        "PCR1979 Double\n",
        "PCR1978 Double\n",
        "ASIAN Double\n",
        "PERCNOHS Double\n",
        "POV1989 Integer\n",
        "STATE String\n",
        "STATEFIP String\n",
        "STDNORM Double\n",
        "AGE_40_49 Double\n",
        "MED_AGE Double\n",
        "BEA_7 Integer\n",
        "POINT_Y Double\n",
        "OWNER_OCC Double\n",
        "PCR1969 Double\n",
        "BEA_NAME String\n",
        "POP1975 Integer\n",
        "POP1974 Integer\n",
        "POP1977 Integer\n",
        "POP1976 Integer\n",
        "POP1971 Integer\n",
        "POP1970 Integer\n",
        "POP1973 Integer\n",
        "POP1972 Integer\n",
        "POP1979 Integer\n",
        "POP1978 Integer\n",
        "BLACK Double\n",
        "POV1969 Integer\n",
        "TOTVACANT7 Integer\n",
        "TOTHOUSE70 Integer\n",
        "MALES Double\n",
        "PCR2006 Double\n",
        "PCR2007 Double\n",
        "PCR2004 Double\n",
        "PCR2005 Double\n",
        "PCR2002 Double\n",
        "PCR2003 Double\n",
        "PCR2000 Double\n",
        "PCR2001 Double\n",
        "MED_AGE_M Double\n",
        "PCR2008 Double\n",
        "PCR2009 Double\n",
        "POP1969 Integer\n",
        "OTHER Double\n",
        "WHITE Double\n",
        "AVE_HH_SZ Double\n",
        "AGE_30_39 Double\n",
        "AGE_50_64 Double\n",
        "DEATH1970 Integer\n",
        "PCR1992 Double\n",
        "POV1999 Integer\n"
       ]
      }
     ],
     "prompt_number": 10
    },
    {
     "cell_type": "markdown",
     "metadata": {},
     "source": [
      "## Select Fields to Read Into NumPy Arrays "
     ]
    },
    {
     "cell_type": "code",
     "collapsed": false,
     "input": [
      "ssdo.obtainData(ssdo.oidName, ['GROWTH', 'PCR1970', 'POPDEN70', 'PERCNOHS'])\n"
     ],
     "language": "python",
     "metadata": {},
     "outputs": [],
     "prompt_number": 11
    },
    {
     "cell_type": "code",
     "collapsed": false,
     "input": [
      "popInfo = ssdo.fields['POPDEN70']\n",
      "popData = popInfo.data\n",
      "print popData[0:5]"
     ],
     "language": "python",
     "metadata": {},
     "outputs": [
      {
       "output_type": "stream",
       "stream": "stdout",
       "text": [
        "[  5.56947324e-01   2.68032831e-04   7.75864375e-03   2.38301421e-02\n",
        "   5.10823361e-03]\n"
       ]
      }
     ],
     "prompt_number": 12
    },
    {
     "cell_type": "markdown",
     "metadata": {},
     "source": [
      "## Adding Results to Input/Output"
     ]
    },
    {
     "cell_type": "markdown",
     "metadata": {},
     "source": [
      "### Create a Dictionary of Candidate Fields"
     ]
    },
    {
     "cell_type": "code",
     "collapsed": false,
     "input": [
      "import numpy.random as RAND\n",
      "ARCPY.env.overwriteOutput = True\n",
      "outArray = RAND.normal(0,1, (ssdo.numObs,))\n",
      "outDict = {}\n",
      "outField = SSDO.CandidateField('STDNORM', 'DOUBLE', outArray, alias = 'My Standard Normal Result')\n",
      "outDict[outField.name] = outField\n"
     ],
     "language": "python",
     "metadata": {},
     "outputs": [],
     "prompt_number": 13
    },
    {
     "cell_type": "markdown",
     "metadata": {},
     "source": [
      "### Add New Field to Input (BE CAREFUL!)"
     ]
    },
    {
     "cell_type": "code",
     "collapsed": false,
     "input": [
      "ssdo.addFields2FC(outDict)\n"
     ],
     "language": "python",
     "metadata": {},
     "outputs": [],
     "prompt_number": 14
    },
    {
     "cell_type": "markdown",
     "metadata": {},
     "source": [
      "### Copy Features, Selected Attribute Field(s), New Result Field(s) to Output"
     ]
    },
    {
     "cell_type": "code",
     "collapsed": false,
     "input": [
      "import os as OS\n",
      "outputFC = OS.path.abspath(r'../data/testMyOutput.shp')\n",
      "ssdo.output2NewFC(outputFC, outDict, appendFields = ['GROWTH', 'PERCNOHS'])\n",
      "del ssdo"
     ],
     "language": "python",
     "metadata": {},
     "outputs": [],
     "prompt_number": 15
    },
    {
     "cell_type": "markdown",
     "metadata": {},
     "source": [
      "## Getting More Advanced - SciPy and PANDAS"
     ]
    },
    {
     "cell_type": "code",
     "collapsed": false,
     "input": [
      "import scipy as SCIPY\n",
      "import pandas as PANDA\n",
      "\n",
      "ssdo = SSDO.SSDataObject(inputFC)\n",
      "fieldNames = ['PCR' + str(i) for i in NUM.arange(1970, 2015, 5)]\n",
      "fieldNames += ['NEW_NAME']\n",
      "ssdo.obtainData(\"MYID\", fieldNames)\n",
      "convertDict = {}\n",
      "for fieldName, fieldInfo in ssdo.fields.iteritems():\n",
      "    convertDict[fieldName] = fieldInfo.data\n",
      "df = PANDA.DataFrame(convertDict, index = [ssdo.order2Master[i] for i in xrange(ssdo.numObs)])\n"
     ],
     "language": "python",
     "metadata": {},
     "outputs": [
      {
       "output_type": "stream",
       "stream": "stdout",
       "text": [
        "158            Alameda\n",
        "159             Alpine\n",
        "160             Amador\n",
        "161              Butte\n",
        "162          Calaveras\n",
        "163             Colusa\n",
        "164       Contra Costa\n",
        "165          Del Norte\n",
        "166          El Dorado\n",
        "167             Fresno\n",
        "168              Glenn\n",
        "169           Humboldt\n",
        "170           Imperial\n",
        "171               Inyo\n",
        "172               Kern\n",
        "173              Kings\n",
        "174               Lake\n",
        "175             Lassen\n",
        "176        Los Angeles\n",
        "177             Madera\n",
        "178              Marin\n",
        "179           Mariposa\n",
        "180          Mendocino\n",
        "181             Merced\n",
        "182              Modoc\n",
        "183               Mono\n",
        "184           Monterey\n",
        "185               Napa\n",
        "186             Nevada\n",
        "187             Orange\n",
        "188             Placer\n",
        "189             Plumas\n",
        "190          Riverside\n",
        "191         Sacramento\n",
        "192         San Benito\n",
        "193     San Bernardino\n",
        "194          San Diego\n",
        "195      San Francisco\n",
        "196        San Joaquin\n",
        "197    San Luis Obispo\n",
        "198          San Mateo\n",
        "199      Santa Barbara\n",
        "200        Santa Clara\n",
        "201         Santa Cruz\n",
        "202             Shasta\n",
        "203             Sierra\n",
        "204           Siskiyou\n",
        "205             Solano\n",
        "206             Sonoma\n",
        "207         Stanislaus\n",
        "208             Sutter\n",
        "209             Tehama\n",
        "210            Trinity\n",
        "211             Tulare\n",
        "212           Tuolumne\n",
        "213            Ventura\n",
        "214               Yolo\n",
        "215               Yuba\n",
        "Name: NEW_NAME, Length: 58\n"
       ]
      }
     ],
     "prompt_number": 18
    },
    {
     "cell_type": "code",
     "collapsed": false,
     "input": [],
     "language": "python",
     "metadata": {},
     "outputs": []
    }
   ],
   "metadata": {}
  }
 ]
}