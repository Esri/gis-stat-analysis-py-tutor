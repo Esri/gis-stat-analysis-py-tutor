{
 "metadata": {
  "name": "ExtendingArcGISDirectly"
 },
 "nbformat": 3,
 "nbformat_minor": 0,
 "worksheets": [
  {
   "cells": [
    {
     "cell_type": "markdown",
     "metadata": {},
     "source": [
      "# Leveraging Open-Source Python Packages for Data Analysis within the ArcGIS Environment"
     ]
    },
    {
     "cell_type": "markdown",
     "metadata": {},
     "source": [
      "## Using NumPy as the common denominator\n",
      "\n",
      "- Could use the ArcPy Data Access Module directly, but there are host of issues/information one must take into account:\n",
      "    * Projections and other Environment Settings\n",
      "    * How Cursors affect the accounting of features\n",
      "    * How to deal with bad records/bad data\n",
      "- Spatial Statistics Data Object\n",
      "    * Almost 30 Tools written in Python that ${\\bf{must}}$  behave like traditional GP Tools\n",
      "    * Use SSDO and your code should adhere"
     ]
    },
    {
     "cell_type": "code",
     "collapsed": false,
     "input": [
      "import arcpy as ARCPY\n",
      "import SSDataObject as SSDO"
     ],
     "language": "python",
     "metadata": {},
     "outputs": []
    },
    {
     "cell_type": "code",
     "collapsed": false,
     "input": [
      "#### Source Data and Query Field Info ####\n",
      "inputFC = r'./data/CA_Polygons.shp'\n",
      "ssdo = SSDO.SSDataObject(inputFC)\n",
      "for fieldName, fieldObject in ssdo.allFields.iteritems():\n",
      "    print fieldName, fieldObject.type\n"
     ],
     "language": "python",
     "metadata": {},
     "outputs": [
      {
       "ename": "SystemExit",
       "evalue": "",
       "output_type": "pyerr",
       "traceback": [
        "An exception has occurred, use %tb to see the full traceback.\n",
        "\u001b[1;31mSystemExit\u001b[0m\n"
       ]
      },
      {
       "output_type": "stream",
       "stream": "stderr",
       "text": [
        "To exit: use 'exit', 'quit', or Ctrl-D."
       ]
      }
     ],
     "prompt_number": 4
    },
    {
     "cell_type": "code",
     "collapsed": false,
     "input": [
      "\n",
      "import os as OS\n",
      "print OS.listdir('/data')"
     ],
     "language": "python",
     "metadata": {},
     "outputs": [
      {
       "ename": "SyntaxError",
       "evalue": "invalid syntax (<ipython-input-13-9e975d75b34c>, line 3)",
       "output_type": "pyerr",
       "traceback": [
        "\u001b[1;36m  File \u001b[1;32m\"<ipython-input-13-9e975d75b34c>\"\u001b[1;36m, line \u001b[1;32m3\u001b[0m\n\u001b[1;33m    print OS.listdir(./data)\u001b[0m\n\u001b[1;37m                     ^\u001b[0m\n\u001b[1;31mSyntaxError\u001b[0m\u001b[1;31m:\u001b[0m invalid syntax\n"
       ]
      }
     ],
     "prompt_number": 13
    },
    {
     "cell_type": "code",
     "collapsed": false,
     "input": [],
     "language": "python",
     "metadata": {},
     "outputs": []
    }
   ],
   "metadata": {}
  }
 ]
}